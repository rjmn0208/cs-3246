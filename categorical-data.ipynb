{
  "cells": [
    {
      "cell_type": "code",
      "execution_count": 45,
      "metadata": {
        "id": "IuVMVOASHTnE"
      },
      "outputs": [],
      "source": [
        "import sys\n",
        "import pandas as pd\n",
        "import numpy as np\n",
        "from sklearn.preprocessing import OneHotEncoder"
      ]
    },
    {
      "cell_type": "code",
      "execution_count": 46,
      "metadata": {
        "id": "IuwS-IB6HVfX"
      },
      "outputs": [],
      "source": [
        "# ! DO NOT MODIFY\n",
        "# Sample data\n",
        "data = {\n",
        "    \"City\": [\"New York\", \"Los Angeles\", \"Chicago\", \"New York\", \"Chicago\"], # categorical\n",
        "    \"Transport_Mode\": [\"Bus\", \"Train\", \"Bike\", \"Bike\", \"Train\"], # categorical\n",
        "    \"Travel_Time\": [30, 45, 15, 25, 40]  # numeric\n",
        "}"
      ]
    },
    {
      "cell_type": "code",
      "execution_count": 47,
      "metadata": {
        "colab": {
          "base_uri": "https://localhost:8080/",
          "height": 206
        },
        "id": "_QvILmsfHZbG",
        "outputId": "fb255822-b2ff-4858-ce08-65ac023bb1a1"
      },
      "outputs": [
        {
          "data": {
            "text/html": [
              "<div>\n",
              "<style scoped>\n",
              "    .dataframe tbody tr th:only-of-type {\n",
              "        vertical-align: middle;\n",
              "    }\n",
              "\n",
              "    .dataframe tbody tr th {\n",
              "        vertical-align: top;\n",
              "    }\n",
              "\n",
              "    .dataframe thead th {\n",
              "        text-align: right;\n",
              "    }\n",
              "</style>\n",
              "<table border=\"1\" class=\"dataframe\">\n",
              "  <thead>\n",
              "    <tr style=\"text-align: right;\">\n",
              "      <th></th>\n",
              "      <th>City</th>\n",
              "      <th>Transport_Mode</th>\n",
              "      <th>Travel_Time</th>\n",
              "    </tr>\n",
              "  </thead>\n",
              "  <tbody>\n",
              "    <tr>\n",
              "      <th>0</th>\n",
              "      <td>New York</td>\n",
              "      <td>Bus</td>\n",
              "      <td>30</td>\n",
              "    </tr>\n",
              "    <tr>\n",
              "      <th>1</th>\n",
              "      <td>Los Angeles</td>\n",
              "      <td>Train</td>\n",
              "      <td>45</td>\n",
              "    </tr>\n",
              "    <tr>\n",
              "      <th>2</th>\n",
              "      <td>Chicago</td>\n",
              "      <td>Bike</td>\n",
              "      <td>15</td>\n",
              "    </tr>\n",
              "    <tr>\n",
              "      <th>3</th>\n",
              "      <td>New York</td>\n",
              "      <td>Bike</td>\n",
              "      <td>25</td>\n",
              "    </tr>\n",
              "    <tr>\n",
              "      <th>4</th>\n",
              "      <td>Chicago</td>\n",
              "      <td>Train</td>\n",
              "      <td>40</td>\n",
              "    </tr>\n",
              "  </tbody>\n",
              "</table>\n",
              "</div>"
            ],
            "text/plain": [
              "          City Transport_Mode  Travel_Time\n",
              "0     New York            Bus           30\n",
              "1  Los Angeles          Train           45\n",
              "2      Chicago           Bike           15\n",
              "3     New York           Bike           25\n",
              "4      Chicago          Train           40"
            ]
          },
          "execution_count": 47,
          "metadata": {},
          "output_type": "execute_result"
        }
      ],
      "source": [
        "# Store `data` in a DataFrame `df`\n",
        "df = pd.DataFrame(data)\n",
        "\n",
        "# Show `df`\n",
        "df"
      ]
    },
    {
      "cell_type": "code",
      "execution_count": 48,
      "metadata": {},
      "outputs": [
        {
          "data": {
            "text/plain": [
              "['City', 'Transport_Mode']"
            ]
          },
          "execution_count": 48,
          "metadata": {},
          "output_type": "execute_result"
        }
      ],
      "source": [
        "# Store categorical columns in a list `categorical_columns`\n",
        "categorical_columns = df.select_dtypes(include=['object', 'category']).columns.tolist()\n",
        "categorical_columns"
      ]
    },
    {
      "cell_type": "code",
      "execution_count": 49,
      "metadata": {
        "id": "aLPpCFDOHiQ6"
      },
      "outputs": [],
      "source": [
        "# Apply `OneHotEncoder` and the output should be sparse\n",
        "encoder_sparse = OneHotEncoder(sparse_output=True)\n",
        "\n",
        "# Fit the categorical columns to `encoder_sparse`\n",
        "encoded_features_sparse = encoder_sparse.fit_transform(df[categorical_columns])"
      ]
    },
    {
      "cell_type": "code",
      "execution_count": 50,
      "metadata": {
        "id": "zTDT8BMpeWD1"
      },
      "outputs": [],
      "source": [
        "# Apply `OneHotEncoder` and the output should be dense \n",
        "encoder_dense = OneHotEncoder(sparse_output=False)\n",
        "\n",
        "# Fit the categorical columns to `encoder_dense`\n",
        "encoded_features_dense = encoder_dense.fit_transform(df[categorical_columns])"
      ]
    },
    {
      "cell_type": "code",
      "execution_count": 51,
      "metadata": {
        "colab": {
          "base_uri": "https://localhost:8080/"
        },
        "id": "8SXyyuoocf-i",
        "outputId": "abc20d4d-348a-4f2e-f806-c2a4ada75fe2"
      },
      "outputs": [
        {
          "name": "stdout",
          "output_type": "stream",
          "text": [
            "<Compressed Sparse Row sparse matrix of dtype 'float64'\n",
            "\twith 10 stored elements and shape (5, 6)>\n",
            "  Coords\tValues\n",
            "  (0, 2)\t1.0\n",
            "  (0, 4)\t1.0\n",
            "  (1, 1)\t1.0\n",
            "  (1, 5)\t1.0\n",
            "  (2, 0)\t1.0\n",
            "  (2, 3)\t1.0\n",
            "  (3, 2)\t1.0\n",
            "  (3, 3)\t1.0\n",
            "  (4, 0)\t1.0\n",
            "  (4, 5)\t1.0\n",
            "[[0. 0. 1. 0. 1. 0.]\n",
            " [0. 1. 0. 0. 0. 1.]\n",
            " [1. 0. 0. 1. 0. 0.]\n",
            " [0. 0. 1. 1. 0. 0.]\n",
            " [1. 0. 0. 0. 0. 1.]]\n"
          ]
        }
      ],
      "source": [
        "# Print `encoded_features_sparse`\n",
        "print(encoded_features_sparse)\n",
        "\n",
        "# Print `encoded_features_dense`\n",
        "print(encoded_features_dense)\n"
      ]
    },
    {
      "cell_type": "code",
      "execution_count": 52,
      "metadata": {
        "colab": {
          "base_uri": "https://localhost:8080/"
        },
        "id": "B97XnCxvedDe",
        "outputId": "d49b8ccb-0792-486c-838e-d7287d64fb82"
      },
      "outputs": [
        {
          "name": "stdout",
          "output_type": "stream",
          "text": [
            "Sparse matrix size: 48 bytes\n",
            "Dense array size: 368 bytes\n"
          ]
        }
      ],
      "source": [
        "# Check memory usage using sys module:\n",
        "print(\"Sparse matrix size:\", sys.getsizeof(encoded_features_sparse), 'bytes')\n",
        "print(\"Dense array size:\", sys.getsizeof(encoded_features_dense), 'bytes')"
      ]
    },
    {
      "cell_type": "markdown",
      "metadata": {
        "id": "iuXxm3OUkRUO"
      },
      "source": [
        "## Dummy Variable Redundancy Problem\n",
        "\n",
        "The Dummy Variable Redundancy Problem occurs when using excessive dummy variables to represent a categorical feature, leading to perfect multicollinearity. This makes it difficult for models to estimate individual category effects, resulting in unstable results. For example, if a \"City\" variable has categories New York, Los Angeles, and Chicago, using three dummy variables is redundant as one can be predicted from the others.\n",
        "\n",
        "This can be solved by dropping one dummy variable for each categorical feature, ensuring accurate estimations."
      ]
    },
    {
      "cell_type": "code",
      "execution_count": 53,
      "metadata": {
        "id": "1fzngC2Jk-hI"
      },
      "outputs": [],
      "source": [
        "# Apply `OneHotEncoder`, the output should be sparse, and drop the first column\n",
        "encoder_sparse_better = OneHotEncoder(sparse_output=True, drop='first')\n",
        "\n",
        "# Fit the categorical columns to `encoder_sparse_better`\n",
        "encoded_features_sparse_better = encoder_sparse_better.fit_transform(df[categorical_columns])"
      ]
    },
    {
      "cell_type": "code",
      "execution_count": 54,
      "metadata": {
        "id": "s03yBIHUe1bV"
      },
      "outputs": [],
      "source": [
        "# Convert to DataFrame with proper column names\n",
        "\n",
        "# Convert the sparse matrix to a DataFrame\n",
        "df_encoded = pd.DataFrame(encoded_features_sparse.toarray(), columns=encoder_sparse.get_feature_names_out(categorical_columns))\n",
        "\n",
        "# Convert the BETTER sparse matrix to a DataFrame\n",
        "df_encoded_better = pd.DataFrame(encoded_features_sparse_better.toarray(), columns=encoder_sparse_better.get_feature_names_out(categorical_columns))"
      ]
    },
    {
      "cell_type": "code",
      "execution_count": 55,
      "metadata": {
        "colab": {
          "base_uri": "https://localhost:8080/",
          "height": 242
        },
        "id": "iNMSNwowmQ-a",
        "outputId": "3b8c6576-88ef-4afc-9c63-f15e2d8d2284"
      },
      "outputs": [
        {
          "name": "stdout",
          "output_type": "stream",
          "text": [
            "Normal encoding:\n",
            "\n"
          ]
        },
        {
          "data": {
            "text/html": [
              "<div>\n",
              "<style scoped>\n",
              "    .dataframe tbody tr th:only-of-type {\n",
              "        vertical-align: middle;\n",
              "    }\n",
              "\n",
              "    .dataframe tbody tr th {\n",
              "        vertical-align: top;\n",
              "    }\n",
              "\n",
              "    .dataframe thead th {\n",
              "        text-align: right;\n",
              "    }\n",
              "</style>\n",
              "<table border=\"1\" class=\"dataframe\">\n",
              "  <thead>\n",
              "    <tr style=\"text-align: right;\">\n",
              "      <th></th>\n",
              "      <th>City_Chicago</th>\n",
              "      <th>City_Los Angeles</th>\n",
              "      <th>City_New York</th>\n",
              "      <th>Transport_Mode_Bike</th>\n",
              "      <th>Transport_Mode_Bus</th>\n",
              "      <th>Transport_Mode_Train</th>\n",
              "    </tr>\n",
              "  </thead>\n",
              "  <tbody>\n",
              "    <tr>\n",
              "      <th>0</th>\n",
              "      <td>0.0</td>\n",
              "      <td>0.0</td>\n",
              "      <td>1.0</td>\n",
              "      <td>0.0</td>\n",
              "      <td>1.0</td>\n",
              "      <td>0.0</td>\n",
              "    </tr>\n",
              "    <tr>\n",
              "      <th>1</th>\n",
              "      <td>0.0</td>\n",
              "      <td>1.0</td>\n",
              "      <td>0.0</td>\n",
              "      <td>0.0</td>\n",
              "      <td>0.0</td>\n",
              "      <td>1.0</td>\n",
              "    </tr>\n",
              "    <tr>\n",
              "      <th>2</th>\n",
              "      <td>1.0</td>\n",
              "      <td>0.0</td>\n",
              "      <td>0.0</td>\n",
              "      <td>1.0</td>\n",
              "      <td>0.0</td>\n",
              "      <td>0.0</td>\n",
              "    </tr>\n",
              "    <tr>\n",
              "      <th>3</th>\n",
              "      <td>0.0</td>\n",
              "      <td>0.0</td>\n",
              "      <td>1.0</td>\n",
              "      <td>1.0</td>\n",
              "      <td>0.0</td>\n",
              "      <td>0.0</td>\n",
              "    </tr>\n",
              "    <tr>\n",
              "      <th>4</th>\n",
              "      <td>1.0</td>\n",
              "      <td>0.0</td>\n",
              "      <td>0.0</td>\n",
              "      <td>0.0</td>\n",
              "      <td>0.0</td>\n",
              "      <td>1.0</td>\n",
              "    </tr>\n",
              "  </tbody>\n",
              "</table>\n",
              "</div>"
            ],
            "text/plain": [
              "   City_Chicago  City_Los Angeles  City_New York  Transport_Mode_Bike  \\\n",
              "0           0.0               0.0            1.0                  0.0   \n",
              "1           0.0               1.0            0.0                  0.0   \n",
              "2           1.0               0.0            0.0                  1.0   \n",
              "3           0.0               0.0            1.0                  1.0   \n",
              "4           1.0               0.0            0.0                  0.0   \n",
              "\n",
              "   Transport_Mode_Bus  Transport_Mode_Train  \n",
              "0                 1.0                   0.0  \n",
              "1                 0.0                   1.0  \n",
              "2                 0.0                   0.0  \n",
              "3                 0.0                   0.0  \n",
              "4                 0.0                   1.0  "
            ]
          },
          "execution_count": 55,
          "metadata": {},
          "output_type": "execute_result"
        }
      ],
      "source": [
        "print('Normal encoding:\\n')\n",
        "df_encoded"
      ]
    },
    {
      "cell_type": "code",
      "execution_count": 56,
      "metadata": {
        "colab": {
          "base_uri": "https://localhost:8080/",
          "height": 242
        },
        "id": "Zhb16Bd3hfcC",
        "outputId": "4f7c2a27-7699-40de-fc9d-650ecb039719"
      },
      "outputs": [
        {
          "name": "stdout",
          "output_type": "stream",
          "text": [
            "Dropped first category encoding:\n",
            "\n"
          ]
        },
        {
          "data": {
            "text/html": [
              "<div>\n",
              "<style scoped>\n",
              "    .dataframe tbody tr th:only-of-type {\n",
              "        vertical-align: middle;\n",
              "    }\n",
              "\n",
              "    .dataframe tbody tr th {\n",
              "        vertical-align: top;\n",
              "    }\n",
              "\n",
              "    .dataframe thead th {\n",
              "        text-align: right;\n",
              "    }\n",
              "</style>\n",
              "<table border=\"1\" class=\"dataframe\">\n",
              "  <thead>\n",
              "    <tr style=\"text-align: right;\">\n",
              "      <th></th>\n",
              "      <th>City_Los Angeles</th>\n",
              "      <th>City_New York</th>\n",
              "      <th>Transport_Mode_Bus</th>\n",
              "      <th>Transport_Mode_Train</th>\n",
              "    </tr>\n",
              "  </thead>\n",
              "  <tbody>\n",
              "    <tr>\n",
              "      <th>0</th>\n",
              "      <td>0.0</td>\n",
              "      <td>1.0</td>\n",
              "      <td>1.0</td>\n",
              "      <td>0.0</td>\n",
              "    </tr>\n",
              "    <tr>\n",
              "      <th>1</th>\n",
              "      <td>1.0</td>\n",
              "      <td>0.0</td>\n",
              "      <td>0.0</td>\n",
              "      <td>1.0</td>\n",
              "    </tr>\n",
              "    <tr>\n",
              "      <th>2</th>\n",
              "      <td>0.0</td>\n",
              "      <td>0.0</td>\n",
              "      <td>0.0</td>\n",
              "      <td>0.0</td>\n",
              "    </tr>\n",
              "    <tr>\n",
              "      <th>3</th>\n",
              "      <td>0.0</td>\n",
              "      <td>1.0</td>\n",
              "      <td>0.0</td>\n",
              "      <td>0.0</td>\n",
              "    </tr>\n",
              "    <tr>\n",
              "      <th>4</th>\n",
              "      <td>0.0</td>\n",
              "      <td>0.0</td>\n",
              "      <td>0.0</td>\n",
              "      <td>1.0</td>\n",
              "    </tr>\n",
              "  </tbody>\n",
              "</table>\n",
              "</div>"
            ],
            "text/plain": [
              "   City_Los Angeles  City_New York  Transport_Mode_Bus  Transport_Mode_Train\n",
              "0               0.0            1.0                 1.0                   0.0\n",
              "1               1.0            0.0                 0.0                   1.0\n",
              "2               0.0            0.0                 0.0                   0.0\n",
              "3               0.0            1.0                 0.0                   0.0\n",
              "4               0.0            0.0                 0.0                   1.0"
            ]
          },
          "execution_count": 56,
          "metadata": {},
          "output_type": "execute_result"
        }
      ],
      "source": [
        "print('Dropped first category encoding:\\n')\n",
        "df_encoded_better"
      ]
    }
  ],
  "metadata": {
    "colab": {
      "provenance": []
    },
    "kernelspec": {
      "display_name": "mlenv",
      "language": "python",
      "name": "python3"
    },
    "language_info": {
      "codemirror_mode": {
        "name": "ipython",
        "version": 3
      },
      "file_extension": ".py",
      "mimetype": "text/x-python",
      "name": "python",
      "nbconvert_exporter": "python",
      "pygments_lexer": "ipython3",
      "version": "3.13.2"
    }
  },
  "nbformat": 4,
  "nbformat_minor": 0
}

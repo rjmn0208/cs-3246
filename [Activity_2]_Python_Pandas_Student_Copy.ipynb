{
  "nbformat": 4,
  "nbformat_minor": 0,
  "metadata": {
    "colab": {
      "provenance": []
    },
    "kernelspec": {
      "name": "python3",
      "display_name": "Python 3"
    },
    "language_info": {
      "name": "python"
    }
  },
  "cells": [
    {
      "cell_type": "markdown",
      "source": [
        "# **Activity 2: Python-Pandas Exercise**\n",
        "\n",
        "Objectives:\n",
        "- Understand Python syntax (variables, loops, functions).\n",
        "- Learn Pandas basics (Series, DataFrames, reading files).\n",
        "- Perform data cleaning (handling missing values, correcting formats, removing duplicates).\n",
        "- Apply concepts in a real-world case study."
      ],
      "metadata": {
        "id": "nrxbKKJZtPzj"
      }
    },
    {
      "cell_type": "markdown",
      "source": [
        "# Part 1: Hands-on Python & Pandas Basics"
      ],
      "metadata": {
        "id": "FNQbxlCPtvXZ"
      }
    },
    {
      "cell_type": "markdown",
      "source": [
        "1. Install the Pandas library in your environment."
      ],
      "metadata": {
        "id": "vH2WqeaY38NC"
      }
    },
    {
      "cell_type": "code",
      "source": [],
      "metadata": {
        "id": "GPhWF_2u5Qxy"
      },
      "execution_count": null,
      "outputs": []
    },
    {
      "cell_type": "markdown",
      "source": [
        "2. Import the  pandas package under the name `pd`"
      ],
      "metadata": {
        "id": "dZC17Lf1zT3Q"
      }
    },
    {
      "cell_type": "code",
      "source": [],
      "metadata": {
        "id": "lR6fv9XE3Pw3"
      },
      "execution_count": null,
      "outputs": []
    },
    {
      "cell_type": "markdown",
      "source": [
        "3. Print the pandas version"
      ],
      "metadata": {
        "id": "hO_MlGtx3Wj5"
      }
    },
    {
      "cell_type": "code",
      "source": [],
      "metadata": {
        "id": "Y4lcL4Nb3SrJ"
      },
      "execution_count": null,
      "outputs": []
    },
    {
      "cell_type": "markdown",
      "source": [
        "4. Create a variable `x` with the value 10 and a string variable `y` with \"Fortes in Fide!\""
      ],
      "metadata": {
        "id": "QWJFiRZ03pwH"
      }
    },
    {
      "cell_type": "code",
      "source": [],
      "metadata": {
        "id": "QCkALKg_3vig"
      },
      "execution_count": null,
      "outputs": []
    },
    {
      "cell_type": "markdown",
      "source": [
        "5. Define a list with numbers `[1, 2, 3, 4, 5]` and a dictionary with keys `name` and `age`"
      ],
      "metadata": {
        "id": "zBzRK3sY5Wfh"
      }
    },
    {
      "cell_type": "code",
      "source": [],
      "metadata": {
        "id": "s8Zg7dgz5XPA"
      },
      "execution_count": null,
      "outputs": []
    },
    {
      "cell_type": "markdown",
      "source": [
        "6. Write a function `greet(name)` that returns \"Magis, (name)\"!"
      ],
      "metadata": {
        "id": "gbsHcq7w5hE2"
      }
    },
    {
      "cell_type": "code",
      "source": [],
      "metadata": {
        "id": "LHKMev_a5mJX"
      },
      "execution_count": null,
      "outputs": []
    },
    {
      "cell_type": "markdown",
      "source": [
        "7. Write a Python function that takes a user’s name as input and prints a personalized greeting."
      ],
      "metadata": {
        "id": "d_UBbRZKYBFF"
      }
    },
    {
      "cell_type": "code",
      "source": [],
      "metadata": {
        "id": "-8T6ocVeYCnD"
      },
      "execution_count": null,
      "outputs": []
    },
    {
      "cell_type": "markdown",
      "source": [
        "8. Modify **Number 7** that if the user does not enter a name, it defaults to \"Guest\"."
      ],
      "metadata": {
        "id": "0GEjHQ-PYRj2"
      }
    },
    {
      "cell_type": "code",
      "source": [],
      "metadata": {
        "id": "rYfMyyQeYbf6"
      },
      "execution_count": null,
      "outputs": []
    },
    {
      "cell_type": "markdown",
      "source": [
        "9. Create a Pandas Series from `[10, 20, 30, 40]`."
      ],
      "metadata": {
        "id": "OG-Ubf3259sb"
      }
    },
    {
      "cell_type": "code",
      "source": [],
      "metadata": {
        "id": "oGThKfqQ5-sj"
      },
      "execution_count": null,
      "outputs": []
    },
    {
      "cell_type": "markdown",
      "source": [
        "10.  Create a DataFrame with columns `A` and `B`."
      ],
      "metadata": {
        "id": "DeSr_ozS6Wc5"
      }
    },
    {
      "cell_type": "code",
      "source": [],
      "metadata": {
        "id": "ytbYen7w6Mmv"
      },
      "execution_count": null,
      "outputs": []
    },
    {
      "cell_type": "markdown",
      "source": [
        "# Part 2: Working with a Dataset 🛥️"
      ],
      "metadata": {
        "id": "7mAive8s7kfU"
      }
    },
    {
      "cell_type": "markdown",
      "source": [
        "1. Load the Titanic dataset from a local file and display the first five rows."
      ],
      "metadata": {
        "id": "u6daMs_F8SPx"
      }
    },
    {
      "cell_type": "code",
      "source": [],
      "metadata": {
        "id": "zi-ufFmj9e4h"
      },
      "execution_count": null,
      "outputs": []
    },
    {
      "cell_type": "markdown",
      "source": [
        "2. Display the dataset's column names, data types."
      ],
      "metadata": {
        "id": "405AKURC9sqB"
      }
    },
    {
      "cell_type": "code",
      "source": [],
      "metadata": {
        "id": "88-8AT8W9uaI"
      },
      "execution_count": null,
      "outputs": []
    },
    {
      "cell_type": "markdown",
      "source": [
        "3. Display the dataset's missing values."
      ],
      "metadata": {
        "id": "Eh9FsKUx9-8S"
      }
    },
    {
      "cell_type": "code",
      "source": [],
      "metadata": {
        "id": "olw7wFVH9-rG"
      },
      "execution_count": null,
      "outputs": []
    },
    {
      "cell_type": "markdown",
      "source": [
        "4. Display the `Name`, `Age`, and `Fare` columns from the dataset. (first 10)"
      ],
      "metadata": {
        "id": "lNAGBAXv-LXs"
      }
    },
    {
      "cell_type": "code",
      "source": [],
      "metadata": {
        "id": "LNRu6hI7-dUV"
      },
      "execution_count": null,
      "outputs": []
    },
    {
      "cell_type": "markdown",
      "source": [
        " 5. Print the descriptive statistics of the Titanic dataset."
      ],
      "metadata": {
        "id": "z2iFTTa2-nAv"
      }
    },
    {
      "cell_type": "code",
      "source": [],
      "metadata": {
        "id": "VvurbDoL-xJE"
      },
      "execution_count": null,
      "outputs": []
    },
    {
      "cell_type": "markdown",
      "source": [
        "6. Remove rows with missing values in the `Age` column."
      ],
      "metadata": {
        "id": "U95dijMI-9x1"
      }
    },
    {
      "cell_type": "code",
      "source": [],
      "metadata": {
        "id": "mMKNND-E_jnL"
      },
      "execution_count": null,
      "outputs": []
    },
    {
      "cell_type": "markdown",
      "source": [
        "7. Remove duplicate rows from the dataset."
      ],
      "metadata": {
        "id": "U-2X_e-fFHI5"
      }
    },
    {
      "cell_type": "code",
      "source": [],
      "metadata": {
        "id": "l2X-ym9eFIT-"
      },
      "execution_count": null,
      "outputs": []
    },
    {
      "cell_type": "markdown",
      "source": [
        "8. Compute and display the correlation matrix of the dataset."
      ],
      "metadata": {
        "id": "b-SvrKnKFL1m"
      }
    },
    {
      "cell_type": "markdown",
      "source": [
        "# Part 2: Working with Case Studies\n",
        "\n",
        "When working on these case studies, **always ensure that your code is properly documented and clearly presented**. Follow these key principles:  \n",
        "\n",
        "### **1. Always Show Your Code**  \n",
        "- Every step of data exploration, cleaning, and analysis should include **visible code outputs**.  \n",
        "- Do not skip showing your process, as transparency is essential for reproducibility.  \n",
        "\n",
        "### **2. Proper Documentation is Necessary**  \n",
        "- Use **comments (`#`) in Python** to explain your code clearly.  \n",
        "- Add **Markdown cells** to describe each step before executing the code.  \n",
        "- Explain key findings in simple language to make the analysis easy to understand.  \n",
        "\n",
        "### **3. Use Readable and Organized Code**  \n",
        "- Follow a **step-by-step approach** to keep the notebook structured.  \n",
        "- Use **proper variable names** and avoid hardcoding values where possible."
      ],
      "metadata": {
        "id": "_v_OG5PPLUcL"
      }
    },
    {
      "cell_type": "markdown",
      "source": [
        "# **Case Study 1: Iris Flower Classification** 🌸  \n",
        "\n",
        "### **Background**  \n",
        "A botanical research institute wants to develop an automated system that classifies different species of **iris flowers** based on their **sepal and petal measurements**.  The dataset consists of **150 samples**, labeled as **Setosa, Versicolor, or Virginica**.  \n",
        "\n",
        "### **Problem Statement**  \n",
        "Can we use **sepal and petal dimensions** to correctly classify the **species of an iris flower**?  \n",
        "\n",
        "### **Task Description**  \n",
        "\n",
        "#### **1. Data Exploration**  \n",
        "- Load the dataset and display the first few rows.  \n",
        "- Identify any missing or inconsistent values.  \n",
        "\n",
        "#### **2. Data Cleaning**  \n",
        "- Check for missing values and handle them appropriately.  \n",
        "- Convert categorical species labels into a format suitable for analysis.  \n",
        "\n",
        "#### **3. Basic Data Analysis**  \n",
        "- Find the average sepal and petal dimensions for each species.  \n",
        "- Identify correlations between different flower measurements.  \n",
        "\n",
        "#### **4. Visualization**  \n",
        "- Create simple visualizations (e.g., histograms, scatter plots) to understand data distribution.  \n",
        "\n",
        "#### **5. Insights & Interpretation**  \n",
        "- Summarize key findings, such as which features best distinguish flower species.  "
      ],
      "metadata": {
        "id": "WOzxo0NoFZJ5"
      }
    },
    {
      "cell_type": "code",
      "source": [],
      "metadata": {
        "id": "VpnqIg63LiAH"
      },
      "execution_count": null,
      "outputs": []
    },
    {
      "cell_type": "markdown",
      "source": [
        "# **Case Study 2: Netflix Content Analysis** 🎬  \n",
        "\n",
        "## **Background**  \n",
        "Netflix is a leading streaming platform with a vast collection of movies and TV shows. The company wants to analyze its **content library** to understand trends in **genres, release years, and regional distribution**.  \n",
        "\n",
        "## **Problem Statement**  \n",
        "How can we use **Netflix’s dataset** to gain insights into content distribution, popular genres, and release trends over time?  \n",
        "\n",
        "## **Task Description**  \n",
        "\n",
        "### **1. Data Exploration**  \n",
        "- Load the dataset and inspect its structure.  \n",
        "- Identify key columns such as title, genre, release year, and country.  \n",
        "\n",
        "### **2. Data Cleaning**  \n",
        "- Check for missing or incorrect values in key columns.  \n",
        "- Remove duplicates and format the date-related data properly.  \n",
        "\n",
        "### **3. Basic Data Analysis**  \n",
        "- Count the number of movies vs. TV shows.  \n",
        "- Identify the most common genres and countries producing content.  \n",
        "- Analyze the number of releases per year to observe trends.  \n",
        "\n",
        "### **4. Insights & Interpretation**  \n",
        "- Summarize key findings, such as trends in Netflix's content production over time.  \n"
      ],
      "metadata": {
        "id": "acBPPZF1LN1S"
      }
    },
    {
      "cell_type": "code",
      "source": [],
      "metadata": {
        "id": "Vrd7hTehLigX"
      },
      "execution_count": null,
      "outputs": []
    }
  ]
}
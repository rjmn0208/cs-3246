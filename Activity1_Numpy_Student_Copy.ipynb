{
  "cells": [
    {
      "cell_type": "markdown",
      "metadata": {},
      "source": [
        " # **Jimenez, Christian Rhyss R.** \n",
        " # **Ofamin, Christian**"
      ]
    },
    {
      "cell_type": "markdown",
      "metadata": {
        "id": "A4GF3lV6jm5x"
      },
      "source": [
        "# **Activity 1: NumPy Exercise**\n",
        "\n",
        "**Objective:**\n",
        "\n",
        "Practice NumPy's array manipulation, indexing, and mathematical functions by solving problems related to basic data analysis and matrix operations."
      ]
    },
    {
      "cell_type": "markdown",
      "metadata": {
        "id": "Pq3P9XLbjVU4"
      },
      "source": [
        "## **Part 1**"
      ]
    },
    {
      "cell_type": "markdown",
      "metadata": {
        "id": "VkOXGCuiLGR9"
      },
      "source": [
        "#### 1. Import the numpy package under the name `np`\n"
      ]
    },
    {
      "cell_type": "code",
      "execution_count": 797,
      "metadata": {
        "id": "DhbEnfx8O314"
      },
      "outputs": [],
      "source": [
        "import numpy as np"
      ]
    },
    {
      "cell_type": "markdown",
      "metadata": {
        "id": "ktNjFh4pO-5C"
      },
      "source": [
        "#### 2. Print the numpy version"
      ]
    },
    {
      "cell_type": "code",
      "execution_count": 798,
      "metadata": {
        "id": "7tZfwQhhPQoI"
      },
      "outputs": [
        {
          "name": "stdout",
          "output_type": "stream",
          "text": [
            "2.2.2\n"
          ]
        }
      ],
      "source": [
        "print(np.__version__)"
      ]
    },
    {
      "cell_type": "markdown",
      "metadata": {
        "id": "D4V99t3oQRAB"
      },
      "source": [
        "#### 3. Create a null array of size 5"
      ]
    },
    {
      "cell_type": "code",
      "execution_count": 799,
      "metadata": {
        "id": "XnL-QmA_QYa2"
      },
      "outputs": [
        {
          "name": "stdout",
          "output_type": "stream",
          "text": [
            "[None None None None None]\n"
          ]
        }
      ],
      "source": [
        "null_array = np.full(5, None)\n",
        "print(null_array)"
      ]
    },
    {
      "cell_type": "markdown",
      "metadata": {
        "id": "x9tAEjPlQcnh"
      },
      "source": [
        "#### 4. Create a null array of size 15 but the seventh value which is 1"
      ]
    },
    {
      "cell_type": "code",
      "execution_count": 800,
      "metadata": {
        "id": "VgwfRV6OQlGk"
      },
      "outputs": [
        {
          "name": "stdout",
          "output_type": "stream",
          "text": [
            "[None None None None None None 1 None None None None None None None None]\n"
          ]
        }
      ],
      "source": [
        "null_array_15 = np.full(15, None)\n",
        "null_array_15[6] = 1\n",
        "print(null_array_15)"
      ]
    },
    {
      "cell_type": "markdown",
      "metadata": {
        "id": "a5_Af-hYTi-X"
      },
      "source": [
        "#### 5. Create a 4x4 matrix with values ranging from 0 to 15"
      ]
    },
    {
      "cell_type": "code",
      "execution_count": 801,
      "metadata": {
        "id": "HSlLeK5YQ5Lo"
      },
      "outputs": [
        {
          "name": "stdout",
          "output_type": "stream",
          "text": [
            "[[ 0  1  2  3]\n",
            " [ 4  5  6  7]\n",
            " [ 8  9 10 11]\n",
            " [12 13 14 15]]\n"
          ]
        }
      ],
      "source": [
        "four_by_four_mat = np.arange(16).reshape(4, 4)\n",
        "print(four_by_four_mat)"
      ]
    },
    {
      "cell_type": "markdown",
      "metadata": {
        "id": "nLJvzwjfVXOL"
      },
      "source": [
        "#### 6. Find indices of non-zero elements from [1,2,4,0,4,0]"
      ]
    },
    {
      "cell_type": "code",
      "execution_count": 802,
      "metadata": {
        "id": "o8vyHuWfVbXu"
      },
      "outputs": [
        {
          "name": "stdout",
          "output_type": "stream",
          "text": [
            "(array([0, 1, 2, 4]),)\n"
          ]
        }
      ],
      "source": [
        "arr = np.array([1, 2, 4, 0, 4, 0])\n",
        "indices = np.nonzero(arr)\n",
        "\n",
        "print(indices)"
      ]
    },
    {
      "cell_type": "markdown",
      "metadata": {
        "id": "z6OrgicLV6C-"
      },
      "source": [
        "#### 7. Create a 4x4x4 array with random values"
      ]
    },
    {
      "cell_type": "code",
      "execution_count": 803,
      "metadata": {
        "collapsed": true,
        "id": "MhcNEK55V1UF"
      },
      "outputs": [
        {
          "name": "stdout",
          "output_type": "stream",
          "text": [
            "[[[0.61828179 0.73718734 0.56276048 0.99477525]\n",
            "  [0.57588838 0.27558781 0.46871552 0.40215389]\n",
            "  [0.57439076 0.61044957 0.52576065 0.65044969]\n",
            "  [0.97237443 0.144008   0.84682466 0.80247333]]\n",
            "\n",
            " [[0.40667254 0.35835274 0.01317993 0.79897584]\n",
            "  [0.81322068 0.30521241 0.18434227 0.35852095]\n",
            "  [0.2514688  0.50145152 0.29242857 0.38140865]\n",
            "  [0.22365207 0.16437817 0.35343759 0.27314202]]\n",
            "\n",
            " [[0.03586057 0.20003659 0.57242377 0.95056518]\n",
            "  [0.4654564  0.6348278  0.3898903  0.29636209]\n",
            "  [0.51096535 0.67142697 0.84079156 0.91487233]\n",
            "  [0.58612827 0.42028125 0.71565189 0.32269872]]\n",
            "\n",
            " [[0.95846844 0.95603979 0.08220914 0.02230432]\n",
            "  [0.98378112 0.96200425 0.80091737 0.45684199]\n",
            "  [0.78450099 0.38858463 0.3841868  0.4155212 ]\n",
            "  [0.79110042 0.06441317 0.90257833 0.77007275]]]\n"
          ]
        }
      ],
      "source": [
        "random_array = np.random.rand(4,4,4)\n",
        "print(random_array)"
      ]
    },
    {
      "cell_type": "markdown",
      "metadata": {
        "id": "aLqeru_NWso3"
      },
      "source": [
        "#### 8. Create a 15x15 array with random assigned values and find the min and max values"
      ]
    },
    {
      "cell_type": "code",
      "execution_count": 804,
      "metadata": {
        "collapsed": true,
        "id": "eSpxGZ2GWqDo"
      },
      "outputs": [
        {
          "name": "stdout",
          "output_type": "stream",
          "text": [
            "Array:\n",
            " [[0.8831564  0.76431397 0.59943574 0.81495941 0.18327061 0.4946611\n",
            "  0.38832982 0.46109275 0.78599791 0.50339631 0.3261865  0.10465866\n",
            "  0.60162843 0.90868481 0.91026572]\n",
            " [0.70097615 0.35614867 0.14209062 0.76740805 0.35037265 0.50832371\n",
            "  0.45097777 0.60893531 0.51580003 0.41205966 0.17338214 0.72173849\n",
            "  0.97002002 0.06427514 0.34165084]\n",
            " [0.17543406 0.7206847  0.3357824  0.38277726 0.4296952  0.30405879\n",
            "  0.49320261 0.65707632 0.611891   0.05560763 0.79102105 0.82132726\n",
            "  0.34029439 0.3859195  0.3477638 ]\n",
            " [0.89559552 0.87305735 0.79126069 0.18453353 0.58344491 0.43748283\n",
            "  0.53449691 0.52156208 0.1111579  0.68746813 0.97185275 0.80850885\n",
            "  0.94415926 0.70664857 0.48520245]\n",
            " [0.08408695 0.34883202 0.75354873 0.02259171 0.13301044 0.05354459\n",
            "  0.55250646 0.82999423 0.38303405 0.93511264 0.74669415 0.24071355\n",
            "  0.45698481 0.96974151 0.01796322]\n",
            " [0.78302327 0.19549084 0.82287643 0.80508163 0.20839237 0.44630996\n",
            "  0.92165751 0.740507   0.54448264 0.49260156 0.60647025 0.73266878\n",
            "  0.45847311 0.00528339 0.35268246]\n",
            " [0.06864515 0.28172031 0.39900651 0.9901838  0.50162088 0.59215\n",
            "  0.15655762 0.98841491 0.03819682 0.80704017 0.62444242 0.45490334\n",
            "  0.83709161 0.35579121 0.75681812]\n",
            " [0.40320799 0.26163749 0.85067835 0.56105681 0.83546459 0.05201486\n",
            "  0.83998483 0.5602791  0.26459075 0.97217285 0.59722888 0.28804697\n",
            "  0.72128919 0.83590025 0.9414775 ]\n",
            " [0.27486166 0.28814508 0.29403744 0.22561798 0.716253   0.38059771\n",
            "  0.05810087 0.57039744 0.8075601  0.85171477 0.33451249 0.68813391\n",
            "  0.80853385 0.86070668 0.98182558]\n",
            " [0.28465683 0.88097253 0.79804703 0.12840267 0.39185614 0.53319563\n",
            "  0.72110939 0.26037022 0.00913443 0.21517964 0.7248228  0.93437428\n",
            "  0.14205784 0.38616843 0.72188821]\n",
            " [0.73775253 0.47345076 0.30958363 0.68543898 0.11775607 0.91382104\n",
            "  0.11245829 0.03434524 0.2277182  0.27486324 0.17137844 0.19712731\n",
            "  0.03979767 0.55514073 0.79844527]\n",
            " [0.8487602  0.88349676 0.09909034 0.34252493 0.58712433 0.63128882\n",
            "  0.36449031 0.8798624  0.07039708 0.22865554 0.60398955 0.54847647\n",
            "  0.96551614 0.77555939 0.82734579]\n",
            " [0.15400685 0.2603593  0.93681038 0.90099883 0.59214618 0.43559988\n",
            "  0.59204095 0.7720043  0.5679674  0.39845045 0.59276389 0.42843007\n",
            "  0.1719328  0.57797901 0.28475884]\n",
            " [0.44095943 0.31550961 0.29060409 0.90254894 0.1856116  0.99754711\n",
            "  0.16687276 0.04209156 0.84508137 0.88726617 0.8327655  0.28027431\n",
            "  0.86096747 0.76681536 0.51477953]\n",
            " [0.07485682 0.26583832 0.27086801 0.82540664 0.17343302 0.88940688\n",
            "  0.15489644 0.72059402 0.97110104 0.97911564 0.19581119 0.9475072\n",
            "  0.44854821 0.79791875 0.67860686]]\n"
          ]
        }
      ],
      "source": [
        "minmax_array = np.random.rand(15,15) \n",
        "print(\"Array:\\n\", minmax_array)"
      ]
    },
    {
      "cell_type": "code",
      "execution_count": 805,
      "metadata": {
        "id": "cUFXQqkHW6qB"
      },
      "outputs": [
        {
          "name": "stdout",
          "output_type": "stream",
          "text": [
            "Min Value: 0.00528338599363154\n",
            "Max Value: 0.9975471094684921\n"
          ]
        }
      ],
      "source": [
        "min_val = np.min(minmax_array)\n",
        "max_val = np.max(minmax_array)\n",
        "\n",
        "print(\"Min Value:\", min_val)\n",
        "print(\"Max Value:\", max_val)"
      ]
    },
    {
      "cell_type": "markdown",
      "metadata": {
        "id": "jIAQPvclbEVr"
      },
      "source": [
        "#### 9. Create a random array of size 25 and find the mean value"
      ]
    },
    {
      "cell_type": "code",
      "execution_count": 806,
      "metadata": {
        "id": "q91Y8GMebPeY"
      },
      "outputs": [
        {
          "name": "stdout",
          "output_type": "stream",
          "text": [
            "Array: [0.5194717  0.08953693 0.29520619 0.40526484 0.4356598  0.31393488\n",
            " 0.74797668 0.08308876 0.56310882 0.20678597 0.2344304  0.8076936\n",
            " 0.65282744 0.9277465  0.90606566 0.64619199 0.60280459 0.43541938\n",
            " 0.53964882 0.79379041 0.30700117 0.69954844 0.79839674 0.986199\n",
            " 0.23429354]\n",
            "\n",
            "Mean Value: 0.529283690537047\n"
          ]
        }
      ],
      "source": [
        "random_arr_25 = np.random.random(size=(25)) \n",
        "mean_value = np.mean(random_arr_25)\n",
        "\n",
        "print(\"Array:\", random_arr_25)\n",
        "print(\"\\nMean Value:\", mean_value)"
      ]
    },
    {
      "cell_type": "markdown",
      "metadata": {
        "id": "1z3JFRgAkmNP"
      },
      "source": [
        "#### 10.  Show your codes\n",
        "\n",
        "Given:\n",
        "\n",
        "array 1 = ([2, 4, 9])\\\n",
        "array 2 = ([1, 14, 6])\n",
        "\n",
        "  *Note: Recreate the arrays*"
      ]
    },
    {
      "cell_type": "code",
      "execution_count": 807,
      "metadata": {
        "id": "jiC8LUdknLPN"
      },
      "outputs": [
        {
          "name": "stdout",
          "output_type": "stream",
          "text": [
            "Array 1: [2 4 9]\n",
            "Array 2: [ 1 14  6]\n"
          ]
        }
      ],
      "source": [
        "array1 = np.array([2, 4, 9])\n",
        "array2 = np.array([1, 14, 6])\n",
        "\n",
        "print(\"Array 1:\", array1)\n",
        "print(\"Array 2:\", array2)"
      ]
    },
    {
      "cell_type": "markdown",
      "metadata": {
        "id": "QFPFjpSSmecQ"
      },
      "source": [
        "10.1 What is the result of *a + b*?"
      ]
    },
    {
      "cell_type": "code",
      "execution_count": 808,
      "metadata": {
        "id": "Yqcpj3ccm5La"
      },
      "outputs": [
        {
          "name": "stdout",
          "output_type": "stream",
          "text": [
            "[ 3 18 15]\n"
          ]
        }
      ],
      "source": [
        "sum = array1 + array2\n",
        "print(sum)"
      ]
    },
    {
      "cell_type": "markdown",
      "metadata": {
        "id": "t0__U1Bum7k6"
      },
      "source": [
        "10.2 What is the result of *a - b*?"
      ]
    },
    {
      "cell_type": "code",
      "execution_count": 809,
      "metadata": {
        "id": "SmuAcAubnCNO"
      },
      "outputs": [
        {
          "name": "stdout",
          "output_type": "stream",
          "text": [
            "[  1 -10   3]\n"
          ]
        }
      ],
      "source": [
        "difference = array1 - array2\n",
        "print(difference)"
      ]
    },
    {
      "cell_type": "markdown",
      "metadata": {
        "id": "5dbiR_Urm5fJ"
      },
      "source": [
        "10.3 What is the result of *a × b*?"
      ]
    },
    {
      "cell_type": "code",
      "execution_count": 810,
      "metadata": {
        "id": "Zpnb_vGqksSF"
      },
      "outputs": [
        {
          "name": "stdout",
          "output_type": "stream",
          "text": [
            "[ 2 56 54]\n"
          ]
        }
      ],
      "source": [
        "product = array1 * array2\n",
        "print(product)"
      ]
    },
    {
      "cell_type": "markdown",
      "metadata": {
        "id": "jHTozQuZp2WM"
      },
      "source": [
        "10.4 What is the result of *a ÷ b*?"
      ]
    },
    {
      "cell_type": "code",
      "execution_count": 811,
      "metadata": {
        "id": "9Jx0GzTIqArP"
      },
      "outputs": [
        {
          "name": "stdout",
          "output_type": "stream",
          "text": [
            "[2.         0.28571429 1.5       ]\n"
          ]
        }
      ],
      "source": [
        "quotient = array1 / array2\n",
        "print(quotient)"
      ]
    },
    {
      "cell_type": "markdown",
      "metadata": {
        "id": "I3FhrIORjZsA"
      },
      "source": [
        "## **Part 2**"
      ]
    },
    {
      "cell_type": "markdown",
      "metadata": {
        "id": "JDa9MTb2wXPi"
      },
      "source": [
        "##### NumPy Array Indexing"
      ]
    },
    {
      "cell_type": "markdown",
      "metadata": {
        "id": "M4rwQgDqrLoo"
      },
      "source": [
        "\n",
        "Given the following matrix:\n",
        "\n",
        "        [[10, 20, 30],\n",
        "        [40, 50, 60],\n",
        "        [70, 80, 90]]\n",
        "\n",
        " 1. Recreate the matrix"
      ]
    },
    {
      "cell_type": "code",
      "execution_count": 812,
      "metadata": {
        "id": "Ra4n8YBQr2RZ"
      },
      "outputs": [
        {
          "name": "stdout",
          "output_type": "stream",
          "text": [
            "[[10 20 30]\n",
            " [40 50 60]\n",
            " [70 80 90]]\n"
          ]
        }
      ],
      "source": [
        "matrix = np.array([[1, 2, 3], [4, 5, 6], [7, 8, 9]]) * 10\n",
        "print(matrix)"
      ]
    },
    {
      "cell_type": "markdown",
      "metadata": {
        "id": "br-ZYkK3uo24"
      },
      "source": [
        "1. Write code to extract the element 50."
      ]
    },
    {
      "cell_type": "code",
      "execution_count": 813,
      "metadata": {
        "id": "kI7jzTiYrTep"
      },
      "outputs": [
        {
          "name": "stdout",
          "output_type": "stream",
          "text": [
            "50\n"
          ]
        }
      ],
      "source": [
        "element_50 = matrix[1, 1]\n",
        "print(element_50)"
      ]
    },
    {
      "cell_type": "markdown",
      "metadata": {
        "id": "H1OsD655sEX6"
      },
      "source": [
        "2. **Extract a Row**\\\n",
        "\\\n",
        "Using the same array arr, extract the second row as a separate NumPy array."
      ]
    },
    {
      "cell_type": "code",
      "execution_count": 814,
      "metadata": {
        "id": "jf-K5No5sRob"
      },
      "outputs": [
        {
          "name": "stdout",
          "output_type": "stream",
          "text": [
            "[40 50 60]\n"
          ]
        }
      ],
      "source": [
        "row_2 = matrix[1]\n",
        "print(row_2)"
      ]
    },
    {
      "cell_type": "markdown",
      "metadata": {
        "id": "qk1-NvWjsVC3"
      },
      "source": [
        "3.  **Extract a Column**\\\n",
        "\\\n",
        "Using arr, extract the third column as a separate NumPy array."
      ]
    },
    {
      "cell_type": "code",
      "execution_count": 815,
      "metadata": {
        "id": "d1s1c5q9sgID"
      },
      "outputs": [
        {
          "name": "stdout",
          "output_type": "stream",
          "text": [
            "[70 80 90]\n"
          ]
        }
      ],
      "source": [
        "col_3 = matrix[2]\n",
        "print(col_3)"
      ]
    },
    {
      "cell_type": "markdown",
      "metadata": {
        "id": "DIe9pf8nskUZ"
      },
      "source": [
        "4. **Extract a Submatrix**\\\n",
        "\\\n",
        "Extract the following 2×2 submatrix from arr:\\\n",
        "\n",
        "  [[50 60]\\\n",
        " [80 90]]"
      ]
    },
    {
      "cell_type": "code",
      "execution_count": 816,
      "metadata": {
        "id": "37dC5sA3ssZV"
      },
      "outputs": [
        {
          "name": "stdout",
          "output_type": "stream",
          "text": [
            "[[50 60]\n",
            " [80 90]]\n"
          ]
        }
      ],
      "source": [
        "submat = matrix[1:3, 1:3]\n",
        "\n",
        "print(submat)"
      ]
    },
    {
      "cell_type": "markdown",
      "metadata": {
        "id": "ABs-32sKwOcg"
      },
      "source": [
        "##### NumPy Array Slicing"
      ]
    },
    {
      "cell_type": "markdown",
      "metadata": {
        "id": "T7kcCxr9uGAO"
      },
      "source": [
        "Given the following matrix:\n",
        "\n",
        "                [ 1,  2,  3,  4],\n",
        "                [ 5,  6,  7,  8],\n",
        "                [ 9, 10, 11, 12]]\n",
        "\n",
        "1. Recreate the matrix"
      ]
    },
    {
      "cell_type": "code",
      "execution_count": 817,
      "metadata": {
        "id": "CvzBw2FpwasA"
      },
      "outputs": [
        {
          "name": "stdout",
          "output_type": "stream",
          "text": [
            "[[ 1  2  3  4]\n",
            " [ 5  6  7  8]\n",
            " [ 9 10 11 12]]\n"
          ]
        }
      ],
      "source": [
        "matrix_two = np.arange(1, 13).reshape(3,4)\n",
        "print(matrix_two)"
      ]
    },
    {
      "cell_type": "markdown",
      "metadata": {
        "id": "YaaIsRTVwlof"
      },
      "source": [
        "2. Write code to extract the following 2×2 subarray:\n",
        "\n",
        "        [[ 6  7]\n",
        "        [10 11]]"
      ]
    },
    {
      "cell_type": "code",
      "execution_count": 818,
      "metadata": {
        "id": "PpyFr5wYwuLN"
      },
      "outputs": [
        {
          "name": "stdout",
          "output_type": "stream",
          "text": [
            "[[ 6  7]\n",
            " [10 11]]\n"
          ]
        }
      ],
      "source": [
        "submat_two = matrix_two[1:3, 1:3]\n",
        "print(submat_two)"
      ]
    },
    {
      "cell_type": "markdown",
      "metadata": {
        "id": "poinisgbw02m"
      },
      "source": [
        "3. Using the same matrix, write code to extract every other element from the first row (expected output: [1, 3])."
      ]
    },
    {
      "cell_type": "code",
      "execution_count": 819,
      "metadata": {
        "id": "9UyP9S3Ww-wf"
      },
      "outputs": [
        {
          "name": "stdout",
          "output_type": "stream",
          "text": [
            "[1 3]\n"
          ]
        }
      ],
      "source": [
        "row_1_every_other_element = matrix_two[0, 0::2]\n",
        "print(row_1_every_other_element)"
      ]
    },
    {
      "cell_type": "markdown",
      "metadata": {
        "id": "0it7IxPqxTq3"
      },
      "source": [
        "4. Write code to reverse the order of rows in the matrix"
      ]
    },
    {
      "cell_type": "code",
      "execution_count": 820,
      "metadata": {
        "id": "-tqPKhrmxWP7"
      },
      "outputs": [
        {
          "name": "stdout",
          "output_type": "stream",
          "text": [
            "[[12 11 10  9]\n",
            " [ 8  7  6  5]\n",
            " [ 4  3  2  1]]\n"
          ]
        }
      ],
      "source": [
        "reverse_rows = matrix_two[3::-1, 3::-1]\n",
        "print(reverse_rows)"
      ]
    },
    {
      "cell_type": "markdown",
      "metadata": {
        "id": "C8EWGps7xfYl"
      },
      "source": [
        "5. Write code to extract the last two columns of the matrix."
      ]
    },
    {
      "cell_type": "code",
      "execution_count": 821,
      "metadata": {
        "id": "F7sJw1N1xiKC"
      },
      "outputs": [
        {
          "name": "stdout",
          "output_type": "stream",
          "text": [
            "[[ 3  4]\n",
            " [ 7  8]\n",
            " [11 12]]\n"
          ]
        }
      ],
      "source": [
        "last_2_col = matrix_two[0::, 2::]\n",
        "print(last_2_col)"
      ]
    },
    {
      "cell_type": "markdown",
      "metadata": {
        "id": "_8sVIp1q2MYw"
      },
      "source": [
        "##### NumPy Array Joins\n",
        "\n",
        "1. Given the following arrays:\n",
        "\n",
        "        arr1 = ([11, 7, 33])\\\n",
        "        arr2 = ([44, 5, 18])\n",
        "\n",
        "1.1 Recreate the arrays"
      ]
    },
    {
      "cell_type": "code",
      "execution_count": 822,
      "metadata": {
        "id": "-1H2IYDs2hMx"
      },
      "outputs": [
        {
          "name": "stdout",
          "output_type": "stream",
          "text": [
            "[11  7 33]\n",
            "[44  5 18]\n"
          ]
        }
      ],
      "source": [
        "arr1 = np.array([11, 7, 33])\n",
        "arr2 = np.array([44, 5, 18])\n",
        "\n",
        "print(arr1)\n",
        "print(arr2)\n"
      ]
    },
    {
      "cell_type": "markdown",
      "metadata": {
        "id": "jJ-OxwEZ2ysr"
      },
      "source": [
        "2. Write code to join arr1 and arr2 into a single 1D array."
      ]
    },
    {
      "cell_type": "code",
      "execution_count": 823,
      "metadata": {
        "id": "fyKL42Yv2ewQ"
      },
      "outputs": [
        {
          "name": "stdout",
          "output_type": "stream",
          "text": [
            "[11  7 33 44  5 18]\n"
          ]
        }
      ],
      "source": [
        "concat_arr = np.concatenate((arr1, arr2))\n",
        "print(concat_arr)"
      ]
    },
    {
      "cell_type": "markdown",
      "metadata": {
        "id": "1qiYH-0v25Z2"
      },
      "source": [
        "3. Using arr1 and arr2 from question 1, write code to stack them vertically into a 2D array."
      ]
    },
    {
      "cell_type": "code",
      "execution_count": 824,
      "metadata": {
        "id": "MgR89wkS2_Nw"
      },
      "outputs": [
        {
          "name": "stdout",
          "output_type": "stream",
          "text": [
            "[[11  7 33]\n",
            " [44  5 18]]\n"
          ]
        }
      ],
      "source": [
        "stack_arr = np.stack((arr1, arr2))\n",
        "print(stack_arr)"
      ]
    },
    {
      "cell_type": "markdown",
      "metadata": {
        "id": "mLanHC623JpJ"
      },
      "source": [
        "4. Given the 2D arrays:\n",
        "\n",
        "        arr1 = ([[1, 2],\n",
        "               [3, 4]])\n",
        "\n",
        "        arr2 = ([[5, 6],\n",
        "               [7, 8]])\n",
        "\n",
        "4.1 Recreate the arrays"
      ]
    },
    {
      "cell_type": "code",
      "execution_count": 825,
      "metadata": {
        "id": "FDGnOATJ3JE4"
      },
      "outputs": [],
      "source": [
        "arr1_new = np.array([[1, 2], [3, 4]])\n",
        "\n",
        "arr2_new = np.array([[5, 6], [7, 8]])"
      ]
    },
    {
      "cell_type": "markdown",
      "metadata": {
        "id": "RyJFIfpo3wiA"
      },
      "source": [
        "5. Write code to join them horizontally (column-wise)."
      ]
    },
    {
      "cell_type": "code",
      "execution_count": 826,
      "metadata": {
        "id": "0eHEY4N63zgT"
      },
      "outputs": [
        {
          "name": "stdout",
          "output_type": "stream",
          "text": [
            "[[1 2 5 6]\n",
            " [3 4 7 8]]\n"
          ]
        }
      ],
      "source": [
        "hstack_arr = np.hstack((arr1_new, arr2_new))\n",
        "print(hstack_arr)"
      ]
    },
    {
      "cell_type": "markdown",
      "metadata": {
        "id": "encqt9P74ZSv"
      },
      "source": [
        "6. Using arr1 and arr2 from question 4, write code to join them vertically (row-wise).\n"
      ]
    },
    {
      "cell_type": "code",
      "execution_count": 827,
      "metadata": {
        "id": "o-UjS1Kn4rS7"
      },
      "outputs": [
        {
          "name": "stdout",
          "output_type": "stream",
          "text": [
            "[[1 2]\n",
            " [3 4]\n",
            " [5 6]\n",
            " [7 8]]\n"
          ]
        }
      ],
      "source": [
        "vstack_arr = np.vstack((arr1_new, arr2_new))\n",
        "print(vstack_arr)"
      ]
    },
    {
      "cell_type": "markdown",
      "metadata": {
        "id": "2l2umcfvjlXq"
      },
      "source": [
        "## **Part 3**"
      ]
    },
    {
      "cell_type": "markdown",
      "metadata": {
        "id": "-rs5StZQlvYg"
      },
      "source": [
        "### Task 1: Array Creation"
      ]
    },
    {
      "cell_type": "markdown",
      "metadata": {
        "id": "PKyTiCLulztg"
      },
      "source": [
        "Create the following arrays:\n",
        "\n",
        "- A 1D array of integers from 10 to 28, with a step of 2.\n",
        "- A 2D array with shape (4, 4) containing random integers between 1 and 50.\n",
        "- A 3D array of shape (2, 3, 4) filled with ones.\n",
        "\n"
      ]
    },
    {
      "cell_type": "code",
      "execution_count": 828,
      "metadata": {
        "collapsed": true,
        "id": "GRWUhpV46cR4"
      },
      "outputs": [
        {
          "name": "stdout",
          "output_type": "stream",
          "text": [
            "[10 12 14 16 18 20 22 24 26 28]\n",
            "[[37 39 26 45]\n",
            " [30 25  9  1]\n",
            " [35 10 29 29]\n",
            " [22 39 41 31]]\n",
            "[[[1. 1. 1. 1.]\n",
            "  [1. 1. 1. 1.]\n",
            "  [1. 1. 1. 1.]]\n",
            "\n",
            " [[1. 1. 1. 1.]\n",
            "  [1. 1. 1. 1.]\n",
            "  [1. 1. 1. 1.]]]\n"
          ]
        }
      ],
      "source": [
        "arr_1D = np.arange(10, 30, 2)\n",
        "arr_2D = np.random.randint(1, 50, size=(4,4))\n",
        "arr_3D = np.ones((2 ,3 ,4))\n",
        "\n",
        "print(arr_1D)\n",
        "print(arr_2D)\n",
        "print(arr_3D)"
      ]
    },
    {
      "cell_type": "markdown",
      "metadata": {
        "id": "yZPELZSx7ggA"
      },
      "source": [
        "### Task 2: Array Transformations\n",
        "Perform the following operations:\n",
        "- Reshape the 1D array to a 2D array with 2 rows.\n",
        "- Extract the last two rows of the 2D array (From Task 1)\n",
        "- Replace all even numbers in the 2D array with -1. (From Task 1)"
      ]
    },
    {
      "cell_type": "code",
      "execution_count": 829,
      "metadata": {
        "id": "5EJrW4nw7sIE"
      },
      "outputs": [
        {
          "name": "stdout",
          "output_type": "stream",
          "text": [
            "[[10 12 14 16 18]\n",
            " [20 22 24 26 28]]  \n",
            "\n",
            "[[35 10 29 29]\n",
            " [22 39 41 31]] \n",
            "\n",
            "Old:\n",
            " [[37 39 26 45]\n",
            " [30 25  9  1]\n",
            " [35 10 29 29]\n",
            " [22 39 41 31]]\n",
            "\n",
            "New: \n",
            " [[37 39 -1 45]\n",
            " [-1 25  9  1]\n",
            " [35 -1 29 29]\n",
            " [-1 39 41 31]]\n"
          ]
        }
      ],
      "source": [
        "arr_1D_to_2D = arr_1D.reshape(2, -1)\n",
        "arr_2D_last_two_rows = arr_2D[2:4, ::]\n",
        "\n",
        "print(arr_1D_to_2D, \" \\n\")\n",
        "print(arr_2D_last_two_rows, \"\\n\")\n",
        "\n",
        "arr_2D_new = arr_2D.copy()\n",
        "\n",
        "for row in range(len(arr_2D_new)):\n",
        "  for col in range(len(arr_2D_new[row])):\n",
        "    if arr_2D_new[row, col] % 2 == 0:\n",
        "      arr_2D_new[row, col] = -1\n",
        "\n",
        "print(\"Old:\\n\", arr_2D)\n",
        "print(\"\\nNew: \\n\", arr_2D_new)"
      ]
    },
    {
      "cell_type": "markdown",
      "metadata": {
        "id": "ZkDoNNBjn7nP"
      },
      "source": [
        "### Task 3: Statistical Operations"
      ]
    },
    {
      "cell_type": "markdown",
      "metadata": {
        "id": "87sRNKp0n7nP"
      },
      "source": [
        "Using the 2D array from **Task 1**, compute the following:\n",
        "\n",
        "- The mean, median, and standard deviation of the array. (From Task 1)\n",
        "- The sum of all elements along each row. (From Task 1)\n",
        "- The maximum value and its index in the entire array. (From Task 1)\n"
      ]
    },
    {
      "cell_type": "code",
      "execution_count": 830,
      "metadata": {
        "id": "TEoMfRV68VlZ"
      },
      "outputs": [
        {
          "name": "stdout",
          "output_type": "stream",
          "text": [
            "arr_2D:\n",
            " [[37 39 26 45]\n",
            " [30 25  9  1]\n",
            " [35 10 29 29]\n",
            " [22 39 41 31]]\n",
            "Mean:  28.0\n",
            "Median:  29.5\n",
            "Standard Deviation:  12.010412149464313\n",
            "Max:  45 (array([0]), array([3]))\n",
            "Sum:  448\n"
          ]
        }
      ],
      "source": [
        "print(\"arr_2D:\\n\", arr_2D)\n",
        "\n",
        "arr_2D_mean = np.mean(arr_2D)\n",
        "arr_2D_median = np.median(arr_2D)\n",
        "arr_2D_std = np.std(arr_2D)\n",
        "arr_2D_max = np.max(arr_2D)\n",
        "arr_2D_max_idx = np.where(arr_2D == arr_2D_max)\n",
        "arr_2D_sum = np.sum(arr_2D)\n",
        "\n",
        "print(\"Mean: \", arr_2D_mean)\n",
        "print(\"Median: \", arr_2D_median)\n",
        "print(\"Standard Deviation: \", arr_2D_std)\n",
        "print(\"Max: \", arr_2D_max, arr_2D_max_idx)\n",
        "print(\"Sum: \",arr_2D_sum)\n",
        " \n"
      ]
    },
    {
      "cell_type": "markdown",
      "metadata": {
        "id": "T_X0kP3I9eWi"
      },
      "source": [
        "###  Task 4: Advanced Analysis on Large Arrays"
      ]
    },
    {
      "cell_type": "markdown",
      "metadata": {
        "id": "B6uTdro89kE7"
      },
      "source": [
        "- Create a (10, 10) array containing random floating-point numbers between 0 and 1.\n",
        "- Find the minimum value along each column.\n",
        "- Find the indices of the top 5 largest values in the entire array."
      ]
    },
    {
      "cell_type": "code",
      "execution_count": 794,
      "metadata": {
        "id": "UwJw1MIn9ovK"
      },
      "outputs": [
        {
          "name": "stdout",
          "output_type": "stream",
          "text": [
            "[[0.68729175 0.83985447 0.60057671 0.90528664 0.89601034 0.40211586\n",
            "  0.07167785 0.91529183 0.63447961 0.7806296 ]\n",
            " [0.60142046 0.29276041 0.28321487 0.48712973 0.52886016 0.74234065\n",
            "  0.36379993 0.57505708 0.97629359 0.17923512]\n",
            " [0.05566897 0.42136297 0.02606918 0.49921139 0.29864853 0.61978015\n",
            "  0.48420891 0.33565838 0.18533866 0.58766076]\n",
            " [0.01007082 0.39908506 0.31199066 0.49058277 0.76591883 0.76243364\n",
            "  0.38711422 0.77790258 0.72451445 0.58564729]\n",
            " [0.10149264 0.41108631 0.58611262 0.86704036 0.45432938 0.1127734\n",
            "  0.64040266 0.25332004 0.35521537 0.51557639]\n",
            " [0.57519577 0.87427539 0.26255356 0.02020749 0.0430824  0.66205272\n",
            "  0.08239304 0.10454199 0.58294326 0.71600172]\n",
            " [0.90093201 0.25985389 0.70605962 0.79406784 0.92446812 0.60007229\n",
            "  0.32643092 0.83674404 0.82684124 0.41909553]\n",
            " [0.36176429 0.30342731 0.70551368 0.72932311 0.42584499 0.95605669\n",
            "  0.12697277 0.1575605  0.20918778 0.38732871]\n",
            " [0.35144328 0.4052191  0.53434283 0.41237803 0.01752089 0.1634489\n",
            "  0.55954053 0.57539958 0.43391127 0.76701383]\n",
            " [0.76339788 0.44505915 0.90124825 0.30535283 0.89185554 0.29451248\n",
            "  0.20401626 0.36226477 0.38563261 0.29716421]]\n"
          ]
        }
      ],
      "source": []
    }
  ],
  "metadata": {
    "colab": {
      "collapsed_sections": [
        "JDa9MTb2wXPi",
        "ABs-32sKwOcg"
      ],
      "provenance": []
    },
    "kernelspec": {
      "display_name": "venv",
      "language": "python",
      "name": "python3"
    },
    "language_info": {
      "codemirror_mode": {
        "name": "ipython",
        "version": 3
      },
      "file_extension": ".py",
      "mimetype": "text/x-python",
      "name": "python",
      "nbconvert_exporter": "python",
      "pygments_lexer": "ipython3",
      "version": "3.12.8"
    }
  },
  "nbformat": 4,
  "nbformat_minor": 0
}

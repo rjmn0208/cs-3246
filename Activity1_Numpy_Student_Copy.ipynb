{
  "cells": [
    {
      "cell_type": "markdown",
      "metadata": {},
      "source": [
        " # **Jimenez, Christian Rhyss R.** \n",
        " # **Ofamin, Christian**"
      ]
    },
    {
      "cell_type": "markdown",
      "metadata": {
        "id": "A4GF3lV6jm5x"
      },
      "source": [
        "# **Activity 1: NumPy Exercise**\n",
        "\n",
        "**Objective:**\n",
        "\n",
        "Practice NumPy's array manipulation, indexing, and mathematical functions by solving problems related to basic data analysis and matrix operations."
      ]
    },
    {
      "cell_type": "markdown",
      "metadata": {
        "id": "Pq3P9XLbjVU4"
      },
      "source": [
        "## **Part 1**"
      ]
    },
    {
      "cell_type": "markdown",
      "metadata": {
        "id": "VkOXGCuiLGR9"
      },
      "source": [
        "#### 1. Import the numpy package under the name `np`\n"
      ]
    },
    {
      "cell_type": "code",
      "execution_count": 36,
      "metadata": {
        "id": "DhbEnfx8O314"
      },
      "outputs": [],
      "source": [
        "import numpy as np"
      ]
    },
    {
      "cell_type": "markdown",
      "metadata": {
        "id": "ktNjFh4pO-5C"
      },
      "source": [
        "#### 2. Print the numpy version"
      ]
    },
    {
      "cell_type": "code",
      "execution_count": 37,
      "metadata": {
        "id": "7tZfwQhhPQoI"
      },
      "outputs": [
        {
          "name": "stdout",
          "output_type": "stream",
          "text": [
            "2.2.2\n"
          ]
        }
      ],
      "source": [
        "print(np.__version__)"
      ]
    },
    {
      "cell_type": "markdown",
      "metadata": {
        "id": "D4V99t3oQRAB"
      },
      "source": [
        "#### 3. Create a null array of size 5"
      ]
    },
    {
      "cell_type": "code",
      "execution_count": 38,
      "metadata": {
        "id": "XnL-QmA_QYa2"
      },
      "outputs": [
        {
          "name": "stdout",
          "output_type": "stream",
          "text": [
            "[None None None None None]\n"
          ]
        }
      ],
      "source": [
        "null_array = np.full(5, None)\n",
        "print(null_array)"
      ]
    },
    {
      "cell_type": "markdown",
      "metadata": {
        "id": "x9tAEjPlQcnh"
      },
      "source": [
        "#### 4. Create a null array of size 15 but the seventh value which is 1"
      ]
    },
    {
      "cell_type": "code",
      "execution_count": 39,
      "metadata": {
        "id": "VgwfRV6OQlGk"
      },
      "outputs": [
        {
          "name": "stdout",
          "output_type": "stream",
          "text": [
            "[None None None None None None 1 None None None None None None None None]\n"
          ]
        }
      ],
      "source": [
        "null_array_15 = np.full(15, None)\n",
        "null_array_15[6] = 1\n",
        "print(null_array_15)"
      ]
    },
    {
      "cell_type": "markdown",
      "metadata": {
        "id": "a5_Af-hYTi-X"
      },
      "source": [
        "#### 5. Create a 4x4 matrix with values ranging from 0 to 15"
      ]
    },
    {
      "cell_type": "code",
      "execution_count": 40,
      "metadata": {
        "id": "HSlLeK5YQ5Lo"
      },
      "outputs": [
        {
          "name": "stdout",
          "output_type": "stream",
          "text": [
            "[[ 0  1  2  3]\n",
            " [ 4  5  6  7]\n",
            " [ 8  9 10 11]\n",
            " [12 13 14 15]]\n"
          ]
        }
      ],
      "source": [
        "four_by_four_mat = np.arange(16).reshape(4, 4)\n",
        "print(four_by_four_mat)"
      ]
    },
    {
      "cell_type": "markdown",
      "metadata": {
        "id": "nLJvzwjfVXOL"
      },
      "source": [
        "#### 6. Find indices of non-zero elements from [1,2,4,0,4,0]"
      ]
    },
    {
      "cell_type": "code",
      "execution_count": 41,
      "metadata": {
        "id": "o8vyHuWfVbXu"
      },
      "outputs": [
        {
          "name": "stdout",
          "output_type": "stream",
          "text": [
            "(array([0, 1, 2, 4]),)\n"
          ]
        }
      ],
      "source": [
        "arr = np.array([1, 2, 4, 0, 4, 0])\n",
        "indices = np.nonzero(arr)\n",
        "\n",
        "print(indices)"
      ]
    },
    {
      "cell_type": "markdown",
      "metadata": {
        "id": "z6OrgicLV6C-"
      },
      "source": [
        "#### 7. Create a 4x4x4 array with random values"
      ]
    },
    {
      "cell_type": "code",
      "execution_count": 42,
      "metadata": {
        "collapsed": true,
        "id": "MhcNEK55V1UF"
      },
      "outputs": [
        {
          "name": "stdout",
          "output_type": "stream",
          "text": [
            "[[[0.73785802 0.91820619 0.95480296 0.481413  ]\n",
            "  [0.99791742 0.11471451 0.39685914 0.16195552]\n",
            "  [0.04667241 0.68978104 0.1891608  0.53755207]\n",
            "  [0.64158038 0.44088023 0.19707319 0.92756698]]\n",
            "\n",
            " [[0.27323956 0.59810155 0.7055159  0.18866174]\n",
            "  [0.79339607 0.34946266 0.87830639 0.1479985 ]\n",
            "  [0.41555205 0.59931485 0.267797   0.23183246]\n",
            "  [0.55828669 0.75901279 0.35479408 0.18442047]]\n",
            "\n",
            " [[0.4180677  0.77155028 0.42575305 0.33510531]\n",
            "  [0.63879071 0.45745517 0.2566078  0.53415223]\n",
            "  [0.03803886 0.52200013 0.3688401  0.27423989]\n",
            "  [0.0893097  0.50447043 0.39357662 0.90755684]]\n",
            "\n",
            " [[0.06310572 0.26366333 0.79667733 0.30347664]\n",
            "  [0.3332116  0.68236837 0.21176299 0.57287542]\n",
            "  [0.74262408 0.74043175 0.35912637 0.80047097]\n",
            "  [0.69150595 0.79150572 0.65445546 0.81269441]]]\n"
          ]
        }
      ],
      "source": [
        "random_array = np.random.rand(4,4,4)\n",
        "print(random_array)"
      ]
    },
    {
      "cell_type": "markdown",
      "metadata": {
        "id": "aLqeru_NWso3"
      },
      "source": [
        "#### 8. Create a 15x15 array with random assigned values and find the min and max values"
      ]
    },
    {
      "cell_type": "code",
      "execution_count": 43,
      "metadata": {
        "collapsed": true,
        "id": "eSpxGZ2GWqDo"
      },
      "outputs": [
        {
          "name": "stdout",
          "output_type": "stream",
          "text": [
            "Array:\n",
            " [[0.63345577 0.0599721  0.91319506 0.05340559 0.62039744 0.83183459\n",
            "  0.2634748  0.88281696 0.88677856 0.94871756 0.24756503 0.84349573\n",
            "  0.6699847  0.285988   0.173841  ]\n",
            " [0.68530336 0.67788312 0.37239872 0.12407393 0.95399243 0.17246294\n",
            "  0.28336366 0.74579326 0.94968093 0.20923389 0.59964432 0.10145143\n",
            "  0.51223381 0.17664352 0.60435383]\n",
            " [0.72460064 0.70855547 0.45115042 0.39506721 0.23431571 0.13716434\n",
            "  0.31955736 0.28058208 0.86842306 0.93189578 0.2699948  0.7292143\n",
            "  0.25278638 0.93346731 0.16845334]\n",
            " [0.29106119 0.89365208 0.32008891 0.49870148 0.50067579 0.81994496\n",
            "  0.5204985  0.95020415 0.66798496 0.52501732 0.28376049 0.24332437\n",
            "  0.88428774 0.78802513 0.24236911]\n",
            " [0.77382149 0.86602828 0.53708674 0.427575   0.85640773 0.30235982\n",
            "  0.27807878 0.78038003 0.46372919 0.00494188 0.43323384 0.20615716\n",
            "  0.39139164 0.44596594 0.23406463]\n",
            " [0.33524883 0.09109163 0.91189949 0.84521631 0.57844942 0.83745508\n",
            "  0.13993484 0.04872388 0.73336319 0.99474712 0.30697977 0.62284241\n",
            "  0.96057487 0.84882031 0.27311194]\n",
            " [0.72693948 0.51621725 0.56951458 0.90891625 0.27707272 0.05953834\n",
            "  0.10258325 0.85160716 0.40155215 0.69830386 0.36046777 0.0225575\n",
            "  0.00551524 0.6299753  0.409024  ]\n",
            " [0.43026172 0.61664828 0.27889942 0.00423135 0.70545068 0.0481472\n",
            "  0.04869224 0.38655462 0.10288096 0.87378271 0.25249043 0.86264767\n",
            "  0.35929939 0.15522052 0.97694389]\n",
            " [0.56282754 0.35501779 0.32868358 0.98844504 0.37619869 0.13551861\n",
            "  0.84081353 0.17853679 0.62802455 0.43788241 0.88089945 0.75623196\n",
            "  0.57728214 0.84080486 0.35205175]\n",
            " [0.04791522 0.00584153 0.90479586 0.60844968 0.04213624 0.33516756\n",
            "  0.79692303 0.87896438 0.79298264 0.57806937 0.47172507 0.54764184\n",
            "  0.72273885 0.43786998 0.98834957]\n",
            " [0.75220518 0.31841845 0.47349796 0.07720201 0.90984471 0.5163479\n",
            "  0.2228783  0.16448543 0.59510743 0.50769988 0.96024837 0.71605612\n",
            "  0.80300525 0.80755445 0.40512837]\n",
            " [0.59009042 0.56435429 0.10768909 0.04571223 0.28763255 0.29678721\n",
            "  0.81762636 0.50054362 0.6594858  0.3283627  0.01367715 0.52667635\n",
            "  0.69063807 0.61673869 0.44790421]\n",
            " [0.97429744 0.79516782 0.01990968 0.28738781 0.49917288 0.76034188\n",
            "  0.94651255 0.01177876 0.71122226 0.6461458  0.03299632 0.7849168\n",
            "  0.51914967 0.92071639 0.10452905]\n",
            " [0.78798364 0.87351446 0.13651613 0.75555263 0.37614366 0.11787848\n",
            "  0.65934031 0.95038637 0.75254114 0.70892363 0.01711428 0.24186897\n",
            "  0.71572249 0.91067134 0.24460739]\n",
            " [0.04524299 0.00710856 0.54235997 0.84462025 0.45935248 0.47770949\n",
            "  0.73602644 0.71975313 0.99463426 0.94022378 0.40604267 0.7338131\n",
            "  0.01019281 0.98800759 0.42424111]]\n"
          ]
        }
      ],
      "source": [
        "minmax_array = np.random.rand(15,15) \n",
        "print(\"Array:\\n\", minmax_array)"
      ]
    },
    {
      "cell_type": "code",
      "execution_count": 44,
      "metadata": {
        "id": "cUFXQqkHW6qB"
      },
      "outputs": [
        {
          "name": "stdout",
          "output_type": "stream",
          "text": [
            "Min Value: 0.004231354195855186\n",
            "Max Value: 0.9947471158940832\n"
          ]
        }
      ],
      "source": [
        "min_val = np.min(minmax_array)\n",
        "max_val = np.max(minmax_array)\n",
        "\n",
        "print(\"Min Value:\", min_val)\n",
        "print(\"Max Value:\", max_val)"
      ]
    },
    {
      "cell_type": "markdown",
      "metadata": {
        "id": "jIAQPvclbEVr"
      },
      "source": [
        "#### 9. Create a random array of size 25 and find the mean value"
      ]
    },
    {
      "cell_type": "code",
      "execution_count": 45,
      "metadata": {
        "id": "q91Y8GMebPeY"
      },
      "outputs": [
        {
          "name": "stdout",
          "output_type": "stream",
          "text": [
            "Array: [0.27336507 0.86454779 0.6430451  0.74199995 0.77617787 0.5748357\n",
            " 0.95943312 0.28088898 0.67208918 0.26564097 0.84730974 0.38762185\n",
            " 0.1451487  0.42928119 0.17777459 0.62463424 0.24466766 0.20150411\n",
            " 0.77434915 0.18490105 0.35878904 0.86405268 0.37149451 0.02286359\n",
            " 0.16465267]\n",
            "\n",
            "Mean Value: 0.4740427399483589\n"
          ]
        }
      ],
      "source": [
        "random_arr_25 = np.random.random(size=(25)) \n",
        "mean_value = np.mean(random_arr_25)\n",
        "\n",
        "print(\"Array:\", random_arr_25)\n",
        "print(\"\\nMean Value:\", mean_value)"
      ]
    },
    {
      "cell_type": "markdown",
      "metadata": {
        "id": "1z3JFRgAkmNP"
      },
      "source": [
        "#### 10.  Show your codes\n",
        "\n",
        "Given:\n",
        "\n",
        "array 1 = ([2, 4, 9])\\\n",
        "array 2 = ([1, 14, 6])\n",
        "\n",
        "  *Note: Recreate the arrays*"
      ]
    },
    {
      "cell_type": "code",
      "execution_count": 46,
      "metadata": {
        "id": "jiC8LUdknLPN"
      },
      "outputs": [
        {
          "name": "stdout",
          "output_type": "stream",
          "text": [
            "Array 1: [2 4 9]\n",
            "Array 2: [ 1 14  6]\n"
          ]
        }
      ],
      "source": [
        "array1 = np.array([2, 4, 9])\n",
        "array2 = np.array([1, 14, 6])\n",
        "\n",
        "print(\"Array 1:\", array1)\n",
        "print(\"Array 2:\", array2)"
      ]
    },
    {
      "cell_type": "markdown",
      "metadata": {
        "id": "QFPFjpSSmecQ"
      },
      "source": [
        "10.1 What is the result of *a + b*?"
      ]
    },
    {
      "cell_type": "code",
      "execution_count": 47,
      "metadata": {
        "id": "Yqcpj3ccm5La"
      },
      "outputs": [
        {
          "name": "stdout",
          "output_type": "stream",
          "text": [
            "[ 3 18 15]\n"
          ]
        }
      ],
      "source": [
        "sum = array1 + array2\n",
        "print(sum)"
      ]
    },
    {
      "cell_type": "markdown",
      "metadata": {
        "id": "t0__U1Bum7k6"
      },
      "source": [
        "10.2 What is the result of *a - b*?"
      ]
    },
    {
      "cell_type": "code",
      "execution_count": 48,
      "metadata": {
        "id": "SmuAcAubnCNO"
      },
      "outputs": [
        {
          "name": "stdout",
          "output_type": "stream",
          "text": [
            "[  1 -10   3]\n"
          ]
        }
      ],
      "source": [
        "difference = array1 - array2\n",
        "print(difference)"
      ]
    },
    {
      "cell_type": "markdown",
      "metadata": {
        "id": "5dbiR_Urm5fJ"
      },
      "source": [
        "10.3 What is the result of *a × b*?"
      ]
    },
    {
      "cell_type": "code",
      "execution_count": 49,
      "metadata": {
        "id": "Zpnb_vGqksSF"
      },
      "outputs": [
        {
          "name": "stdout",
          "output_type": "stream",
          "text": [
            "[ 2 56 54]\n"
          ]
        }
      ],
      "source": [
        "product = array1 * array2\n",
        "print(product)"
      ]
    },
    {
      "cell_type": "markdown",
      "metadata": {
        "id": "jHTozQuZp2WM"
      },
      "source": [
        "10.4 What is the result of *a ÷ b*?"
      ]
    },
    {
      "cell_type": "code",
      "execution_count": 50,
      "metadata": {
        "id": "9Jx0GzTIqArP"
      },
      "outputs": [
        {
          "name": "stdout",
          "output_type": "stream",
          "text": [
            "[2.         0.28571429 1.5       ]\n"
          ]
        }
      ],
      "source": [
        "quotient = array1 / array2\n",
        "print(quotient)"
      ]
    },
    {
      "cell_type": "markdown",
      "metadata": {
        "id": "I3FhrIORjZsA"
      },
      "source": [
        "## **Part 2**"
      ]
    },
    {
      "cell_type": "markdown",
      "metadata": {
        "id": "JDa9MTb2wXPi"
      },
      "source": [
        "##### NumPy Array Indexing"
      ]
    },
    {
      "cell_type": "markdown",
      "metadata": {
        "id": "M4rwQgDqrLoo"
      },
      "source": [
        "\n",
        "Given the following matrix:\n",
        "\n",
        "        [[10, 20, 30],\n",
        "        [40, 50, 60],\n",
        "        [70, 80, 90]]\n",
        "\n",
        " 1. Recreate the matrix"
      ]
    },
    {
      "cell_type": "code",
      "execution_count": 51,
      "metadata": {
        "id": "Ra4n8YBQr2RZ"
      },
      "outputs": [
        {
          "name": "stdout",
          "output_type": "stream",
          "text": [
            "[[10 20 30]\n",
            " [40 50 60]\n",
            " [70 80 90]]\n"
          ]
        }
      ],
      "source": [
        "matrix = np.array([[1, 2, 3], [4, 5, 6], [7, 8, 9]]) * 10\n",
        "print(matrix)"
      ]
    },
    {
      "cell_type": "markdown",
      "metadata": {
        "id": "br-ZYkK3uo24"
      },
      "source": [
        "1. Write code to extract the element 50."
      ]
    },
    {
      "cell_type": "code",
      "execution_count": 52,
      "metadata": {
        "id": "kI7jzTiYrTep"
      },
      "outputs": [
        {
          "name": "stdout",
          "output_type": "stream",
          "text": [
            "50\n"
          ]
        }
      ],
      "source": [
        "element_50 = matrix[1, 1]\n",
        "print(element_50)"
      ]
    },
    {
      "cell_type": "markdown",
      "metadata": {
        "id": "H1OsD655sEX6"
      },
      "source": [
        "2. **Extract a Row**\\\n",
        "\\\n",
        "Using the same array arr, extract the second row as a separate NumPy array."
      ]
    },
    {
      "cell_type": "code",
      "execution_count": 53,
      "metadata": {
        "id": "jf-K5No5sRob"
      },
      "outputs": [
        {
          "name": "stdout",
          "output_type": "stream",
          "text": [
            "[40 50 60]\n"
          ]
        }
      ],
      "source": [
        "row_2 = matrix[1]\n",
        "print(row_2)"
      ]
    },
    {
      "cell_type": "markdown",
      "metadata": {
        "id": "qk1-NvWjsVC3"
      },
      "source": [
        "3.  **Extract a Column**\\\n",
        "\\\n",
        "Using arr, extract the third column as a separate NumPy array."
      ]
    },
    {
      "cell_type": "code",
      "execution_count": 54,
      "metadata": {
        "id": "d1s1c5q9sgID"
      },
      "outputs": [
        {
          "name": "stdout",
          "output_type": "stream",
          "text": [
            "[70 80 90]\n"
          ]
        }
      ],
      "source": [
        "col_3 = matrix[2]\n",
        "print(col_3)"
      ]
    },
    {
      "cell_type": "markdown",
      "metadata": {
        "id": "DIe9pf8nskUZ"
      },
      "source": [
        "4. **Extract a Submatrix**\\\n",
        "\\\n",
        "Extract the following 2×2 submatrix from arr:\\\n",
        "\n",
        "  [[50 60]\\\n",
        " [80 90]]"
      ]
    },
    {
      "cell_type": "code",
      "execution_count": 55,
      "metadata": {
        "id": "37dC5sA3ssZV"
      },
      "outputs": [
        {
          "name": "stdout",
          "output_type": "stream",
          "text": [
            "[[50 60]\n",
            " [80 90]]\n"
          ]
        }
      ],
      "source": [
        "submat = matrix[1:3, 1:3]\n",
        "\n",
        "print(submat)"
      ]
    },
    {
      "cell_type": "markdown",
      "metadata": {
        "id": "ABs-32sKwOcg"
      },
      "source": [
        "##### NumPy Array Slicing"
      ]
    },
    {
      "cell_type": "markdown",
      "metadata": {
        "id": "T7kcCxr9uGAO"
      },
      "source": [
        "Given the following matrix:\n",
        "\n",
        "                [ 1,  2,  3,  4],\n",
        "                [ 5,  6,  7,  8],\n",
        "                [ 9, 10, 11, 12]]\n",
        "\n",
        "1. Recreate the matrix"
      ]
    },
    {
      "cell_type": "code",
      "execution_count": 56,
      "metadata": {
        "id": "CvzBw2FpwasA"
      },
      "outputs": [
        {
          "name": "stdout",
          "output_type": "stream",
          "text": [
            "[[ 1  2  3  4]\n",
            " [ 5  6  7  8]\n",
            " [ 9 10 11 12]]\n"
          ]
        }
      ],
      "source": [
        "matrix_two = np.arange(1, 13).reshape(3,4)\n",
        "print(matrix_two)"
      ]
    },
    {
      "cell_type": "markdown",
      "metadata": {
        "id": "YaaIsRTVwlof"
      },
      "source": [
        "2. Write code to extract the following 2×2 subarray:\n",
        "\n",
        "        [[ 6  7]\n",
        "        [10 11]]"
      ]
    },
    {
      "cell_type": "code",
      "execution_count": 57,
      "metadata": {
        "id": "PpyFr5wYwuLN"
      },
      "outputs": [
        {
          "name": "stdout",
          "output_type": "stream",
          "text": [
            "[[ 6  7]\n",
            " [10 11]]\n"
          ]
        }
      ],
      "source": [
        "submat_two = matrix_two[1:3, 1:3]\n",
        "print(submat_two)"
      ]
    },
    {
      "cell_type": "markdown",
      "metadata": {
        "id": "poinisgbw02m"
      },
      "source": [
        "3. Using the same matrix, write code to extract every other element from the first row (expected output: [1, 3])."
      ]
    },
    {
      "cell_type": "code",
      "execution_count": 58,
      "metadata": {
        "id": "9UyP9S3Ww-wf"
      },
      "outputs": [
        {
          "name": "stdout",
          "output_type": "stream",
          "text": [
            "[1 3]\n"
          ]
        }
      ],
      "source": [
        "row_1_every_other_element = matrix_two[0, 0::2]\n",
        "print(row_1_every_other_element)"
      ]
    },
    {
      "cell_type": "markdown",
      "metadata": {
        "id": "0it7IxPqxTq3"
      },
      "source": [
        "4. Write code to reverse the order of rows in the matrix"
      ]
    },
    {
      "cell_type": "code",
      "execution_count": 59,
      "metadata": {
        "id": "-tqPKhrmxWP7"
      },
      "outputs": [
        {
          "name": "stdout",
          "output_type": "stream",
          "text": [
            "[[12 11 10  9]\n",
            " [ 8  7  6  5]\n",
            " [ 4  3  2  1]]\n"
          ]
        }
      ],
      "source": [
        "reverse_rows = matrix_two[3::-1, 3::-1]\n",
        "print(reverse_rows)"
      ]
    },
    {
      "cell_type": "markdown",
      "metadata": {
        "id": "C8EWGps7xfYl"
      },
      "source": [
        "5. Write code to extract the last two columns of the matrix."
      ]
    },
    {
      "cell_type": "code",
      "execution_count": 60,
      "metadata": {
        "id": "F7sJw1N1xiKC"
      },
      "outputs": [
        {
          "name": "stdout",
          "output_type": "stream",
          "text": [
            "[[ 3  4]\n",
            " [ 7  8]\n",
            " [11 12]]\n"
          ]
        }
      ],
      "source": [
        "last_2_col = matrix_two[0::, 2::]\n",
        "print(last_2_col)"
      ]
    },
    {
      "cell_type": "markdown",
      "metadata": {
        "id": "_8sVIp1q2MYw"
      },
      "source": [
        "##### NumPy Array Joins\n",
        "\n",
        "1. Given the following arrays:\n",
        "\n",
        "        arr1 = ([11, 7, 33])\\\n",
        "        arr2 = ([44, 5, 18])\n",
        "\n",
        "1.1 Recreate the arrays"
      ]
    },
    {
      "cell_type": "code",
      "execution_count": 61,
      "metadata": {
        "id": "-1H2IYDs2hMx"
      },
      "outputs": [
        {
          "name": "stdout",
          "output_type": "stream",
          "text": [
            "[11  7 33]\n",
            "[44  5 18]\n"
          ]
        }
      ],
      "source": [
        "arr1 = np.array([11, 7, 33])\n",
        "arr2 = np.array([44, 5, 18])\n",
        "\n",
        "print(arr1)\n",
        "print(arr2)\n"
      ]
    },
    {
      "cell_type": "markdown",
      "metadata": {
        "id": "jJ-OxwEZ2ysr"
      },
      "source": [
        "2. Write code to join arr1 and arr2 into a single 1D array."
      ]
    },
    {
      "cell_type": "code",
      "execution_count": 62,
      "metadata": {
        "id": "fyKL42Yv2ewQ"
      },
      "outputs": [
        {
          "name": "stdout",
          "output_type": "stream",
          "text": [
            "[11  7 33 44  5 18]\n"
          ]
        }
      ],
      "source": [
        "concat_arr = np.concatenate((arr1, arr2))\n",
        "print(concat_arr)"
      ]
    },
    {
      "cell_type": "markdown",
      "metadata": {
        "id": "1qiYH-0v25Z2"
      },
      "source": [
        "3. Using arr1 and arr2 from question 1, write code to stack them vertically into a 2D array."
      ]
    },
    {
      "cell_type": "code",
      "execution_count": 63,
      "metadata": {
        "id": "MgR89wkS2_Nw"
      },
      "outputs": [
        {
          "name": "stdout",
          "output_type": "stream",
          "text": [
            "[[11  7 33]\n",
            " [44  5 18]]\n"
          ]
        }
      ],
      "source": [
        "stack_arr = np.stack((arr1, arr2))\n",
        "print(stack_arr)"
      ]
    },
    {
      "cell_type": "markdown",
      "metadata": {
        "id": "mLanHC623JpJ"
      },
      "source": [
        "4. Given the 2D arrays:\n",
        "\n",
        "        arr1 = ([[1, 2],\n",
        "               [3, 4]])\n",
        "\n",
        "        arr2 = ([[5, 6],\n",
        "               [7, 8]])\n",
        "\n",
        "4.1 Recreate the arrays"
      ]
    },
    {
      "cell_type": "code",
      "execution_count": 64,
      "metadata": {
        "id": "FDGnOATJ3JE4"
      },
      "outputs": [],
      "source": [
        "arr1_new = np.array([[1, 2], [3, 4]])\n",
        "\n",
        "arr2_new = np.array([[5, 6], [7, 8]])"
      ]
    },
    {
      "cell_type": "markdown",
      "metadata": {
        "id": "RyJFIfpo3wiA"
      },
      "source": [
        "5. Write code to join them horizontally (column-wise)."
      ]
    },
    {
      "cell_type": "code",
      "execution_count": 65,
      "metadata": {
        "id": "0eHEY4N63zgT"
      },
      "outputs": [
        {
          "name": "stdout",
          "output_type": "stream",
          "text": [
            "[[1 2 5 6]\n",
            " [3 4 7 8]]\n"
          ]
        }
      ],
      "source": [
        "hstack_arr = np.hstack((arr1_new, arr2_new))\n",
        "print(hstack_arr)"
      ]
    },
    {
      "cell_type": "markdown",
      "metadata": {
        "id": "encqt9P74ZSv"
      },
      "source": [
        "6. Using arr1 and arr2 from question 4, write code to join them vertically (row-wise).\n"
      ]
    },
    {
      "cell_type": "code",
      "execution_count": 66,
      "metadata": {
        "id": "o-UjS1Kn4rS7"
      },
      "outputs": [
        {
          "name": "stdout",
          "output_type": "stream",
          "text": [
            "[[1 2]\n",
            " [3 4]\n",
            " [5 6]\n",
            " [7 8]]\n"
          ]
        }
      ],
      "source": [
        "vstack_arr = np.vstack((arr1_new, arr2_new))\n",
        "print(vstack_arr)"
      ]
    },
    {
      "cell_type": "markdown",
      "metadata": {
        "id": "2l2umcfvjlXq"
      },
      "source": [
        "## **Part 3**"
      ]
    },
    {
      "cell_type": "markdown",
      "metadata": {
        "id": "-rs5StZQlvYg"
      },
      "source": [
        "### Task 1: Array Creation"
      ]
    },
    {
      "cell_type": "markdown",
      "metadata": {
        "id": "PKyTiCLulztg"
      },
      "source": [
        "Create the following arrays:\n",
        "\n",
        "- A 1D array of integers from 10 to 28, with a step of 2.\n",
        "- A 2D array with shape (4, 4) containing random integers between 1 and 50.\n",
        "- A 3D array of shape (2, 3, 4) filled with ones.\n",
        "\n"
      ]
    },
    {
      "cell_type": "code",
      "execution_count": 67,
      "metadata": {
        "collapsed": true,
        "id": "GRWUhpV46cR4"
      },
      "outputs": [
        {
          "name": "stdout",
          "output_type": "stream",
          "text": [
            "[10 12 14 16 18 20 22 24 26 28]\n",
            "[[45 24 31  8]\n",
            " [32 43 29  9]\n",
            " [27 33 16 13]\n",
            " [21 11 35 24]]\n",
            "[[[1. 1. 1. 1.]\n",
            "  [1. 1. 1. 1.]\n",
            "  [1. 1. 1. 1.]]\n",
            "\n",
            " [[1. 1. 1. 1.]\n",
            "  [1. 1. 1. 1.]\n",
            "  [1. 1. 1. 1.]]]\n"
          ]
        }
      ],
      "source": [
        "arr_1D = np.arange(10, 30, 2)\n",
        "arr_2D = np.random.randint(1, 50, size=(4,4))\n",
        "arr_3D = np.ones((2 ,3 ,4))\n",
        "\n",
        "print(arr_1D)\n",
        "print(arr_2D)\n",
        "print(arr_3D)"
      ]
    },
    {
      "cell_type": "markdown",
      "metadata": {
        "id": "yZPELZSx7ggA"
      },
      "source": [
        "### Task 2: Array Transformations\n",
        "Perform the following operations:\n",
        "- Reshape the 1D array to a 2D array with 2 rows.\n",
        "- Extract the last two rows of the 2D array (From Task 1)\n",
        "- Replace all even numbers in the 2D array with -1. (From Task 1)"
      ]
    },
    {
      "cell_type": "code",
      "execution_count": 68,
      "metadata": {
        "id": "5EJrW4nw7sIE"
      },
      "outputs": [
        {
          "name": "stdout",
          "output_type": "stream",
          "text": [
            "[[10 12 14 16 18]\n",
            " [20 22 24 26 28]]  \n",
            "\n",
            "[[27 33 16 13]\n",
            " [21 11 35 24]] \n",
            "\n",
            "Old:\n",
            " [[45 24 31  8]\n",
            " [32 43 29  9]\n",
            " [27 33 16 13]\n",
            " [21 11 35 24]]\n",
            "\n",
            "New: \n",
            " [[45 -1 31 -1]\n",
            " [-1 43 29  9]\n",
            " [27 33 -1 13]\n",
            " [21 11 35 -1]]\n"
          ]
        }
      ],
      "source": [
        "arr_1D_to_2D = arr_1D.reshape(2, -1)\n",
        "arr_2D_last_two_rows = arr_2D[2:4, ::]\n",
        "\n",
        "print(arr_1D_to_2D, \" \\n\")\n",
        "print(arr_2D_last_two_rows, \"\\n\")\n",
        "\n",
        "arr_2D_new = arr_2D.copy()\n",
        "\n",
        "for row in range(len(arr_2D_new)):\n",
        "  for col in range(len(arr_2D_new[row])):\n",
        "    if arr_2D_new[row, col] % 2 == 0:\n",
        "      arr_2D_new[row, col] = -1\n",
        "\n",
        "print(\"Old:\\n\", arr_2D)\n",
        "print(\"\\nNew: \\n\", arr_2D_new)"
      ]
    },
    {
      "cell_type": "markdown",
      "metadata": {
        "id": "ZkDoNNBjn7nP"
      },
      "source": [
        "### Task 3: Statistical Operations"
      ]
    },
    {
      "cell_type": "markdown",
      "metadata": {
        "id": "87sRNKp0n7nP"
      },
      "source": [
        "Using the 2D array from **Task 1**, compute the following:\n",
        "\n",
        "- The mean, median, and standard deviation of the array. (From Task 1)\n",
        "- The sum of all elements along each row. (From Task 1)\n",
        "- The maximum value and its index in the entire array. (From Task 1)\n"
      ]
    },
    {
      "cell_type": "code",
      "execution_count": 69,
      "metadata": {
        "id": "TEoMfRV68VlZ"
      },
      "outputs": [
        {
          "name": "stdout",
          "output_type": "stream",
          "text": [
            "arr_2D:\n",
            " [[45 24 31  8]\n",
            " [32 43 29  9]\n",
            " [27 33 16 13]\n",
            " [21 11 35 24]]\n",
            "Mean:  25.0625\n",
            "Median:  25.5\n",
            "Standard Deviation:  11.115691330277214\n",
            "Max:  45 (array([0]), array([0]))\n",
            "Sum:  401\n"
          ]
        }
      ],
      "source": [
        "print(\"arr_2D:\\n\", arr_2D)\n",
        "\n",
        "arr_2D_mean = np.mean(arr_2D)\n",
        "arr_2D_median = np.median(arr_2D)\n",
        "arr_2D_std = np.std(arr_2D)\n",
        "arr_2D_max = np.max(arr_2D)\n",
        "arr_2D_max_idx = np.where(arr_2D == arr_2D_max)\n",
        "arr_2D_sum = np.sum(arr_2D)\n",
        "\n",
        "print(\"Mean: \", arr_2D_mean)\n",
        "print(\"Median: \", arr_2D_median)\n",
        "print(\"Standard Deviation: \", arr_2D_std)\n",
        "print(\"Max: \", arr_2D_max, arr_2D_max_idx)\n",
        "print(\"Sum: \",arr_2D_sum)\n"
      ]
    },
    {
      "cell_type": "markdown",
      "metadata": {
        "id": "T_X0kP3I9eWi"
      },
      "source": [
        "###  Task 4: Advanced Analysis on Large Arrays"
      ]
    },
    {
      "cell_type": "markdown",
      "metadata": {
        "id": "B6uTdro89kE7"
      },
      "source": [
        "- Create a (10, 10) array containing random floating-point numbers between 0 and 1.\n",
        "- Find the minimum value along each column.\n",
        "- Find the indices of the top 5 largest values in the entire array."
      ]
    },
    {
      "cell_type": "code",
      "execution_count": 87,
      "metadata": {
        "id": "UwJw1MIn9ovK"
      },
      "outputs": [
        {
          "name": "stdout",
          "output_type": "stream",
          "text": [
            "[[0.68403135 0.46108212 0.99974382 0.87475339 0.62174726 0.28574875\n",
            "  0.16703642 0.72936539 0.53689919 0.3277374 ]\n",
            " [0.29762123 0.07180868 0.93109364 0.05247048 0.67968701 0.81596513\n",
            "  0.15072575 0.20313923 0.56480751 0.30317884]\n",
            " [0.58433731 0.83262298 0.41836402 0.79257574 0.51058616 0.78268084\n",
            "  0.6040208  0.41422567 0.42097059 0.555394  ]\n",
            " [0.92768246 0.8578315  0.05570291 0.42232411 0.01656851 0.13915757\n",
            "  0.07840241 0.52927451 0.10818097 0.20672259]\n",
            " [0.32680952 0.45170415 0.95084452 0.07182886 0.24790459 0.25672219\n",
            "  0.48099105 0.38947753 0.35188288 0.14866806]\n",
            " [0.18412687 0.36690046 0.08500535 0.66344729 0.38600955 0.29595814\n",
            "  0.92573292 0.28816824 0.43899584 0.0429944 ]\n",
            " [0.19506511 0.02895102 0.77348131 0.1329897  0.57631068 0.27636769\n",
            "  0.45512325 0.64010916 0.05765691 0.03212786]\n",
            " [0.25197051 0.05525534 0.57306753 0.81119715 0.907844   0.48929681\n",
            "  0.83907183 0.35327995 0.06589262 0.2515937 ]\n",
            " [0.5309871  0.94762131 0.0947849  0.09180124 0.27388782 0.69906217\n",
            "  0.08850658 0.99320181 0.70509237 0.63122056]\n",
            " [0.30749476 0.50289023 0.41002548 0.0602599  0.80560857 0.26526612\n",
            "  0.05502206 0.20448389 0.03709311 0.53844656]]\n",
            "\n",
            "Minimum values along each column:\n",
            "[0.18412687 0.02895102 0.05570291 0.05247048 0.01656851 0.13915757\n",
            " 0.05502206 0.20313923 0.03709311 0.03212786]\n",
            "\n",
            "Indices of the top 5 largest values:\n",
            "[(np.int64(1), np.int64(2)), (np.int64(8), np.int64(1)), (np.int64(4), np.int64(2)), (np.int64(8), np.int64(7)), (np.int64(0), np.int64(2))]\n"
          ]
        }
      ],
      "source": [
        "arr_10x10 = np.random.rand(10, 10)\n",
        "\n",
        "\n",
        "column_min = np.min(arr_10x10, axis=0)\n",
        "\n",
        "\n",
        "flat_indices = np.argpartition(arr_10x10.flatten(), -5)[-5:]\n",
        "top_5_indices = np.unravel_index(flat_indices, arr_10x10.shape)\n",
        "\n",
        "\n",
        "print(arr_10x10)\n",
        "print(\"\\nMinimum values along each column:\")\n",
        "print(column_min)\n",
        "print(\"\\nIndices of the top 5 largest values:\")\n",
        "print(list(zip(top_5_indices[0], top_5_indices[1])))"
      ]
    }
  ],
  "metadata": {
    "colab": {
      "collapsed_sections": [
        "JDa9MTb2wXPi",
        "ABs-32sKwOcg"
      ],
      "provenance": []
    },
    "kernelspec": {
      "display_name": "venv",
      "language": "python",
      "name": "python3"
    },
    "language_info": {
      "codemirror_mode": {
        "name": "ipython",
        "version": 3
      },
      "file_extension": ".py",
      "mimetype": "text/x-python",
      "name": "python",
      "nbconvert_exporter": "python",
      "pygments_lexer": "ipython3",
      "version": "3.12.8"
    }
  },
  "nbformat": 4,
  "nbformat_minor": 0
}

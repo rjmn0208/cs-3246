{
  "cells": [
    {
      "cell_type": "markdown",
      "metadata": {},
      "source": [
        " # **Jimenez, Christian Rhyss R.** \n",
        " # **Ofamin, Christian**"
      ]
    },
    {
      "cell_type": "markdown",
      "metadata": {
        "id": "A4GF3lV6jm5x"
      },
      "source": [
        "# **Activity 1: NumPy Exercise**\n",
        "\n",
        "**Objective:**\n",
        "\n",
        "Practice NumPy's array manipulation, indexing, and mathematical functions by solving problems related to basic data analysis and matrix operations."
      ]
    },
    {
      "cell_type": "markdown",
      "metadata": {
        "id": "Pq3P9XLbjVU4"
      },
      "source": [
        "## **Part 1**"
      ]
    },
    {
      "cell_type": "markdown",
      "metadata": {
        "id": "VkOXGCuiLGR9"
      },
      "source": [
        "#### 1. Import the numpy package under the name `np`\n"
      ]
    },
    {
      "cell_type": "code",
      "execution_count": 831,
      "metadata": {
        "id": "DhbEnfx8O314"
      },
      "outputs": [],
      "source": [
        "import numpy as np"
      ]
    },
    {
      "cell_type": "markdown",
      "metadata": {
        "id": "ktNjFh4pO-5C"
      },
      "source": [
        "#### 2. Print the numpy version"
      ]
    },
    {
      "cell_type": "code",
      "execution_count": 832,
      "metadata": {
        "id": "7tZfwQhhPQoI"
      },
      "outputs": [
        {
          "name": "stdout",
          "output_type": "stream",
          "text": [
            "2.2.2\n"
          ]
        }
      ],
      "source": [
        "print(np.__version__)"
      ]
    },
    {
      "cell_type": "markdown",
      "metadata": {
        "id": "D4V99t3oQRAB"
      },
      "source": [
        "#### 3. Create a null array of size 5"
      ]
    },
    {
      "cell_type": "code",
      "execution_count": 833,
      "metadata": {
        "id": "XnL-QmA_QYa2"
      },
      "outputs": [
        {
          "name": "stdout",
          "output_type": "stream",
          "text": [
            "[None None None None None]\n"
          ]
        }
      ],
      "source": [
        "null_array = np.full(5, None)\n",
        "print(null_array)"
      ]
    },
    {
      "cell_type": "markdown",
      "metadata": {
        "id": "x9tAEjPlQcnh"
      },
      "source": [
        "#### 4. Create a null array of size 15 but the seventh value which is 1"
      ]
    },
    {
      "cell_type": "code",
      "execution_count": 834,
      "metadata": {
        "id": "VgwfRV6OQlGk"
      },
      "outputs": [
        {
          "name": "stdout",
          "output_type": "stream",
          "text": [
            "[None None None None None None 1 None None None None None None None None]\n"
          ]
        }
      ],
      "source": [
        "null_array_15 = np.full(15, None)\n",
        "null_array_15[6] = 1\n",
        "print(null_array_15)"
      ]
    },
    {
      "cell_type": "markdown",
      "metadata": {
        "id": "a5_Af-hYTi-X"
      },
      "source": [
        "#### 5. Create a 4x4 matrix with values ranging from 0 to 15"
      ]
    },
    {
      "cell_type": "code",
      "execution_count": 835,
      "metadata": {
        "id": "HSlLeK5YQ5Lo"
      },
      "outputs": [
        {
          "name": "stdout",
          "output_type": "stream",
          "text": [
            "[[ 0  1  2  3]\n",
            " [ 4  5  6  7]\n",
            " [ 8  9 10 11]\n",
            " [12 13 14 15]]\n"
          ]
        }
      ],
      "source": [
        "four_by_four_mat = np.arange(16).reshape(4, 4)\n",
        "print(four_by_four_mat)"
      ]
    },
    {
      "cell_type": "markdown",
      "metadata": {
        "id": "nLJvzwjfVXOL"
      },
      "source": [
        "#### 6. Find indices of non-zero elements from [1,2,4,0,4,0]"
      ]
    },
    {
      "cell_type": "code",
      "execution_count": 836,
      "metadata": {
        "id": "o8vyHuWfVbXu"
      },
      "outputs": [
        {
          "name": "stdout",
          "output_type": "stream",
          "text": [
            "(array([0, 1, 2, 4]),)\n"
          ]
        }
      ],
      "source": [
        "arr = np.array([1, 2, 4, 0, 4, 0])\n",
        "indices = np.nonzero(arr)\n",
        "\n",
        "print(indices)"
      ]
    },
    {
      "cell_type": "markdown",
      "metadata": {
        "id": "z6OrgicLV6C-"
      },
      "source": [
        "#### 7. Create a 4x4x4 array with random values"
      ]
    },
    {
      "cell_type": "code",
      "execution_count": 837,
      "metadata": {
        "collapsed": true,
        "id": "MhcNEK55V1UF"
      },
      "outputs": [
        {
          "name": "stdout",
          "output_type": "stream",
          "text": [
            "[[[0.93859317 0.38324295 0.83501036 0.75122497]\n",
            "  [0.10953693 0.84382725 0.37844717 0.93364465]\n",
            "  [0.17740396 0.2128509  0.7841341  0.26299513]\n",
            "  [0.58005539 0.77152919 0.33783878 0.51404652]]\n",
            "\n",
            " [[0.00398537 0.72574227 0.82593227 0.1001476 ]\n",
            "  [0.32390177 0.72562101 0.99239908 0.78840242]\n",
            "  [0.75710538 0.03785142 0.78899928 0.26923292]\n",
            "  [0.23526419 0.42439649 0.59721619 0.80922935]]\n",
            "\n",
            " [[0.09837074 0.58512076 0.60145333 0.59520058]\n",
            "  [0.07886242 0.46255553 0.16699864 0.25938046]\n",
            "  [0.87897467 0.07536439 0.53672706 0.01244488]\n",
            "  [0.25477654 0.04193892 0.50363155 0.76030654]]\n",
            "\n",
            " [[0.38606268 0.49797986 0.54425604 0.28953229]\n",
            "  [0.263271   0.08191109 0.27888038 0.02243843]\n",
            "  [0.0070697  0.68134954 0.49542762 0.76839128]\n",
            "  [0.27884357 0.08151369 0.47700345 0.54045055]]]\n"
          ]
        }
      ],
      "source": [
        "random_array = np.random.rand(4,4,4)\n",
        "print(random_array)"
      ]
    },
    {
      "cell_type": "markdown",
      "metadata": {
        "id": "aLqeru_NWso3"
      },
      "source": [
        "#### 8. Create a 15x15 array with random assigned values and find the min and max values"
      ]
    },
    {
      "cell_type": "code",
      "execution_count": 838,
      "metadata": {
        "collapsed": true,
        "id": "eSpxGZ2GWqDo"
      },
      "outputs": [
        {
          "name": "stdout",
          "output_type": "stream",
          "text": [
            "Array:\n",
            " [[0.32452315 0.33980314 0.68532132 0.28224719 0.75929095 0.38897973\n",
            "  0.47869002 0.16036418 0.96831952 0.29369226 0.33672164 0.21293265\n",
            "  0.06682523 0.06106933 0.42312329]\n",
            " [0.72862417 0.40127039 0.33446978 0.91241399 0.87103183 0.31705078\n",
            "  0.18866636 0.69578565 0.09711221 0.49287382 0.7422036  0.36980153\n",
            "  0.67748472 0.84685917 0.12162349]\n",
            " [0.97241826 0.04404124 0.00554077 0.68636416 0.37706894 0.3796266\n",
            "  0.97851296 0.427582   0.54366798 0.05615429 0.78475649 0.92209385\n",
            "  0.60907813 0.42621519 0.35006586]\n",
            " [0.18703281 0.4076016  0.83377606 0.98617634 0.89596918 0.90160755\n",
            "  0.91254941 0.83012849 0.97350171 0.82059691 0.01612862 0.55069507\n",
            "  0.14827276 0.31193949 0.76318719]\n",
            " [0.2021144  0.64985755 0.79445424 0.7019707  0.02036064 0.42677921\n",
            "  0.64585392 0.80328185 0.57783008 0.24215793 0.5337002  0.08504483\n",
            "  0.27359968 0.57833415 0.75434136]\n",
            " [0.74380901 0.77205025 0.45847751 0.19650115 0.27827352 0.3715176\n",
            "  0.20222413 0.10364877 0.03514758 0.85033141 0.11172903 0.44363359\n",
            "  0.16209701 0.54580403 0.01268581]\n",
            " [0.60756055 0.58109489 0.52738221 0.42515046 0.3279079  0.66729767\n",
            "  0.70985279 0.5286001  0.12332292 0.25050516 0.26005891 0.07927813\n",
            "  0.64142927 0.40174538 0.41534221]\n",
            " [0.96803656 0.49201047 0.25465824 0.19485091 0.63603182 0.62079827\n",
            "  0.31240018 0.07153036 0.5444369  0.57606368 0.8698834  0.75948486\n",
            "  0.36576478 0.42331707 0.02045099]\n",
            " [0.33926761 0.90639592 0.62771441 0.92824857 0.95830193 0.71971417\n",
            "  0.5232014  0.38095864 0.34345679 0.79185793 0.4199566  0.17903145\n",
            "  0.13246107 0.32934046 0.69134079]\n",
            " [0.38264261 0.33509354 0.29996214 0.29212369 0.42941152 0.01894327\n",
            "  0.50017931 0.43689365 0.59332067 0.11219301 0.61498306 0.8449575\n",
            "  0.67680213 0.53815939 0.39993243]\n",
            " [0.72473409 0.6052545  0.6145802  0.26583396 0.8488868  0.54658191\n",
            "  0.15084156 0.72041645 0.96833584 0.88918936 0.04372252 0.14597377\n",
            "  0.09093265 0.04389204 0.82426954]\n",
            " [0.31166645 0.33619764 0.69226414 0.31050629 0.10987368 0.22959789\n",
            "  0.73296034 0.37565623 0.00882166 0.06729137 0.85947808 0.86497723\n",
            "  0.2561952  0.1428958  0.71515605]\n",
            " [0.60317471 0.61303292 0.35328243 0.18947944 0.78250661 0.82146843\n",
            "  0.44404197 0.79468839 0.36037787 0.14144848 0.43401323 0.3233067\n",
            "  0.46403876 0.75352816 0.26714535]\n",
            " [0.50333992 0.95596906 0.96935783 0.31730029 0.00389553 0.72667789\n",
            "  0.79793171 0.57868638 0.67709552 0.49274588 0.93069422 0.08769511\n",
            "  0.51954978 0.76983034 0.94617245]\n",
            " [0.90029546 0.89850243 0.5447032  0.8493488  0.33673232 0.3570964\n",
            "  0.46027895 0.50801932 0.87480132 0.14988191 0.31670505 0.11060916\n",
            "  0.00109046 0.30375848 0.08961653]]\n"
          ]
        }
      ],
      "source": [
        "minmax_array = np.random.rand(15,15) \n",
        "print(\"Array:\\n\", minmax_array)"
      ]
    },
    {
      "cell_type": "code",
      "execution_count": 839,
      "metadata": {
        "id": "cUFXQqkHW6qB"
      },
      "outputs": [
        {
          "name": "stdout",
          "output_type": "stream",
          "text": [
            "Min Value: 0.0010904577869971233\n",
            "Max Value: 0.9861763419077553\n"
          ]
        }
      ],
      "source": [
        "min_val = np.min(minmax_array)\n",
        "max_val = np.max(minmax_array)\n",
        "\n",
        "print(\"Min Value:\", min_val)\n",
        "print(\"Max Value:\", max_val)"
      ]
    },
    {
      "cell_type": "markdown",
      "metadata": {
        "id": "jIAQPvclbEVr"
      },
      "source": [
        "#### 9. Create a random array of size 25 and find the mean value"
      ]
    },
    {
      "cell_type": "code",
      "execution_count": 840,
      "metadata": {
        "id": "q91Y8GMebPeY"
      },
      "outputs": [
        {
          "name": "stdout",
          "output_type": "stream",
          "text": [
            "Array: [0.41677181 0.92866626 0.39954768 0.31138549 0.87094835 0.52654529\n",
            " 0.20668723 0.33386333 0.93730729 0.5742358  0.0569986  0.4918417\n",
            " 0.56960369 0.85803754 0.38656523 0.10863371 0.9994736  0.36825557\n",
            " 0.04087332 0.72606936 0.65237047 0.73257342 0.11587682 0.37695043\n",
            " 0.45469059]\n",
            "\n",
            "Mean Value: 0.4977909034155851\n"
          ]
        }
      ],
      "source": [
        "random_arr_25 = np.random.random(size=(25)) \n",
        "mean_value = np.mean(random_arr_25)\n",
        "\n",
        "print(\"Array:\", random_arr_25)\n",
        "print(\"\\nMean Value:\", mean_value)"
      ]
    },
    {
      "cell_type": "markdown",
      "metadata": {
        "id": "1z3JFRgAkmNP"
      },
      "source": [
        "#### 10.  Show your codes\n",
        "\n",
        "Given:\n",
        "\n",
        "array 1 = ([2, 4, 9])\\\n",
        "array 2 = ([1, 14, 6])\n",
        "\n",
        "  *Note: Recreate the arrays*"
      ]
    },
    {
      "cell_type": "code",
      "execution_count": 841,
      "metadata": {
        "id": "jiC8LUdknLPN"
      },
      "outputs": [
        {
          "name": "stdout",
          "output_type": "stream",
          "text": [
            "Array 1: [2 4 9]\n",
            "Array 2: [ 1 14  6]\n"
          ]
        }
      ],
      "source": [
        "array1 = np.array([2, 4, 9])\n",
        "array2 = np.array([1, 14, 6])\n",
        "\n",
        "print(\"Array 1:\", array1)\n",
        "print(\"Array 2:\", array2)"
      ]
    },
    {
      "cell_type": "markdown",
      "metadata": {
        "id": "QFPFjpSSmecQ"
      },
      "source": [
        "10.1 What is the result of *a + b*?"
      ]
    },
    {
      "cell_type": "code",
      "execution_count": 842,
      "metadata": {
        "id": "Yqcpj3ccm5La"
      },
      "outputs": [
        {
          "name": "stdout",
          "output_type": "stream",
          "text": [
            "[ 3 18 15]\n"
          ]
        }
      ],
      "source": [
        "sum = array1 + array2\n",
        "print(sum)"
      ]
    },
    {
      "cell_type": "markdown",
      "metadata": {
        "id": "t0__U1Bum7k6"
      },
      "source": [
        "10.2 What is the result of *a - b*?"
      ]
    },
    {
      "cell_type": "code",
      "execution_count": 843,
      "metadata": {
        "id": "SmuAcAubnCNO"
      },
      "outputs": [
        {
          "name": "stdout",
          "output_type": "stream",
          "text": [
            "[  1 -10   3]\n"
          ]
        }
      ],
      "source": [
        "difference = array1 - array2\n",
        "print(difference)"
      ]
    },
    {
      "cell_type": "markdown",
      "metadata": {
        "id": "5dbiR_Urm5fJ"
      },
      "source": [
        "10.3 What is the result of *a × b*?"
      ]
    },
    {
      "cell_type": "code",
      "execution_count": 844,
      "metadata": {
        "id": "Zpnb_vGqksSF"
      },
      "outputs": [
        {
          "name": "stdout",
          "output_type": "stream",
          "text": [
            "[ 2 56 54]\n"
          ]
        }
      ],
      "source": [
        "product = array1 * array2\n",
        "print(product)"
      ]
    },
    {
      "cell_type": "markdown",
      "metadata": {
        "id": "jHTozQuZp2WM"
      },
      "source": [
        "10.4 What is the result of *a ÷ b*?"
      ]
    },
    {
      "cell_type": "code",
      "execution_count": 845,
      "metadata": {
        "id": "9Jx0GzTIqArP"
      },
      "outputs": [
        {
          "name": "stdout",
          "output_type": "stream",
          "text": [
            "[2.         0.28571429 1.5       ]\n"
          ]
        }
      ],
      "source": [
        "quotient = array1 / array2\n",
        "print(quotient)"
      ]
    },
    {
      "cell_type": "markdown",
      "metadata": {
        "id": "I3FhrIORjZsA"
      },
      "source": [
        "## **Part 2**"
      ]
    },
    {
      "cell_type": "markdown",
      "metadata": {
        "id": "JDa9MTb2wXPi"
      },
      "source": [
        "##### NumPy Array Indexing"
      ]
    },
    {
      "cell_type": "markdown",
      "metadata": {
        "id": "M4rwQgDqrLoo"
      },
      "source": [
        "\n",
        "Given the following matrix:\n",
        "\n",
        "        [[10, 20, 30],\n",
        "        [40, 50, 60],\n",
        "        [70, 80, 90]]\n",
        "\n",
        " 1. Recreate the matrix"
      ]
    },
    {
      "cell_type": "code",
      "execution_count": 846,
      "metadata": {
        "id": "Ra4n8YBQr2RZ"
      },
      "outputs": [
        {
          "name": "stdout",
          "output_type": "stream",
          "text": [
            "[[10 20 30]\n",
            " [40 50 60]\n",
            " [70 80 90]]\n"
          ]
        }
      ],
      "source": [
        "matrix = np.array([[1, 2, 3], [4, 5, 6], [7, 8, 9]]) * 10\n",
        "print(matrix)"
      ]
    },
    {
      "cell_type": "markdown",
      "metadata": {
        "id": "br-ZYkK3uo24"
      },
      "source": [
        "1. Write code to extract the element 50."
      ]
    },
    {
      "cell_type": "code",
      "execution_count": 847,
      "metadata": {
        "id": "kI7jzTiYrTep"
      },
      "outputs": [
        {
          "name": "stdout",
          "output_type": "stream",
          "text": [
            "50\n"
          ]
        }
      ],
      "source": [
        "element_50 = matrix[1, 1]\n",
        "print(element_50)"
      ]
    },
    {
      "cell_type": "markdown",
      "metadata": {
        "id": "H1OsD655sEX6"
      },
      "source": [
        "2. **Extract a Row**\\\n",
        "\\\n",
        "Using the same array arr, extract the second row as a separate NumPy array."
      ]
    },
    {
      "cell_type": "code",
      "execution_count": 848,
      "metadata": {
        "id": "jf-K5No5sRob"
      },
      "outputs": [
        {
          "name": "stdout",
          "output_type": "stream",
          "text": [
            "[40 50 60]\n"
          ]
        }
      ],
      "source": [
        "row_2 = matrix[1]\n",
        "print(row_2)"
      ]
    },
    {
      "cell_type": "markdown",
      "metadata": {
        "id": "qk1-NvWjsVC3"
      },
      "source": [
        "3.  **Extract a Column**\\\n",
        "\\\n",
        "Using arr, extract the third column as a separate NumPy array."
      ]
    },
    {
      "cell_type": "code",
      "execution_count": 849,
      "metadata": {
        "id": "d1s1c5q9sgID"
      },
      "outputs": [
        {
          "name": "stdout",
          "output_type": "stream",
          "text": [
            "[70 80 90]\n"
          ]
        }
      ],
      "source": [
        "col_3 = matrix[2]\n",
        "print(col_3)"
      ]
    },
    {
      "cell_type": "markdown",
      "metadata": {
        "id": "DIe9pf8nskUZ"
      },
      "source": [
        "4. **Extract a Submatrix**\\\n",
        "\\\n",
        "Extract the following 2×2 submatrix from arr:\\\n",
        "\n",
        "  [[50 60]\\\n",
        " [80 90]]"
      ]
    },
    {
      "cell_type": "code",
      "execution_count": 850,
      "metadata": {
        "id": "37dC5sA3ssZV"
      },
      "outputs": [
        {
          "name": "stdout",
          "output_type": "stream",
          "text": [
            "[[50 60]\n",
            " [80 90]]\n"
          ]
        }
      ],
      "source": [
        "submat = matrix[1:3, 1:3]\n",
        "\n",
        "print(submat)"
      ]
    },
    {
      "cell_type": "markdown",
      "metadata": {
        "id": "ABs-32sKwOcg"
      },
      "source": [
        "##### NumPy Array Slicing"
      ]
    },
    {
      "cell_type": "markdown",
      "metadata": {
        "id": "T7kcCxr9uGAO"
      },
      "source": [
        "Given the following matrix:\n",
        "\n",
        "                [ 1,  2,  3,  4],\n",
        "                [ 5,  6,  7,  8],\n",
        "                [ 9, 10, 11, 12]]\n",
        "\n",
        "1. Recreate the matrix"
      ]
    },
    {
      "cell_type": "code",
      "execution_count": 851,
      "metadata": {
        "id": "CvzBw2FpwasA"
      },
      "outputs": [
        {
          "name": "stdout",
          "output_type": "stream",
          "text": [
            "[[ 1  2  3  4]\n",
            " [ 5  6  7  8]\n",
            " [ 9 10 11 12]]\n"
          ]
        }
      ],
      "source": [
        "matrix_two = np.arange(1, 13).reshape(3,4)\n",
        "print(matrix_two)"
      ]
    },
    {
      "cell_type": "markdown",
      "metadata": {
        "id": "YaaIsRTVwlof"
      },
      "source": [
        "2. Write code to extract the following 2×2 subarray:\n",
        "\n",
        "        [[ 6  7]\n",
        "        [10 11]]"
      ]
    },
    {
      "cell_type": "code",
      "execution_count": 852,
      "metadata": {
        "id": "PpyFr5wYwuLN"
      },
      "outputs": [
        {
          "name": "stdout",
          "output_type": "stream",
          "text": [
            "[[ 6  7]\n",
            " [10 11]]\n"
          ]
        }
      ],
      "source": [
        "submat_two = matrix_two[1:3, 1:3]\n",
        "print(submat_two)"
      ]
    },
    {
      "cell_type": "markdown",
      "metadata": {
        "id": "poinisgbw02m"
      },
      "source": [
        "3. Using the same matrix, write code to extract every other element from the first row (expected output: [1, 3])."
      ]
    },
    {
      "cell_type": "code",
      "execution_count": 853,
      "metadata": {
        "id": "9UyP9S3Ww-wf"
      },
      "outputs": [
        {
          "name": "stdout",
          "output_type": "stream",
          "text": [
            "[1 3]\n"
          ]
        }
      ],
      "source": [
        "row_1_every_other_element = matrix_two[0, 0::2]\n",
        "print(row_1_every_other_element)"
      ]
    },
    {
      "cell_type": "markdown",
      "metadata": {
        "id": "0it7IxPqxTq3"
      },
      "source": [
        "4. Write code to reverse the order of rows in the matrix"
      ]
    },
    {
      "cell_type": "code",
      "execution_count": 854,
      "metadata": {
        "id": "-tqPKhrmxWP7"
      },
      "outputs": [
        {
          "name": "stdout",
          "output_type": "stream",
          "text": [
            "[[12 11 10  9]\n",
            " [ 8  7  6  5]\n",
            " [ 4  3  2  1]]\n"
          ]
        }
      ],
      "source": [
        "reverse_rows = matrix_two[3::-1, 3::-1]\n",
        "print(reverse_rows)"
      ]
    },
    {
      "cell_type": "markdown",
      "metadata": {
        "id": "C8EWGps7xfYl"
      },
      "source": [
        "5. Write code to extract the last two columns of the matrix."
      ]
    },
    {
      "cell_type": "code",
      "execution_count": 855,
      "metadata": {
        "id": "F7sJw1N1xiKC"
      },
      "outputs": [
        {
          "name": "stdout",
          "output_type": "stream",
          "text": [
            "[[ 3  4]\n",
            " [ 7  8]\n",
            " [11 12]]\n"
          ]
        }
      ],
      "source": [
        "last_2_col = matrix_two[0::, 2::]\n",
        "print(last_2_col)"
      ]
    },
    {
      "cell_type": "markdown",
      "metadata": {
        "id": "_8sVIp1q2MYw"
      },
      "source": [
        "##### NumPy Array Joins\n",
        "\n",
        "1. Given the following arrays:\n",
        "\n",
        "        arr1 = ([11, 7, 33])\\\n",
        "        arr2 = ([44, 5, 18])\n",
        "\n",
        "1.1 Recreate the arrays"
      ]
    },
    {
      "cell_type": "code",
      "execution_count": 856,
      "metadata": {
        "id": "-1H2IYDs2hMx"
      },
      "outputs": [
        {
          "name": "stdout",
          "output_type": "stream",
          "text": [
            "[11  7 33]\n",
            "[44  5 18]\n"
          ]
        }
      ],
      "source": [
        "arr1 = np.array([11, 7, 33])\n",
        "arr2 = np.array([44, 5, 18])\n",
        "\n",
        "print(arr1)\n",
        "print(arr2)\n"
      ]
    },
    {
      "cell_type": "markdown",
      "metadata": {
        "id": "jJ-OxwEZ2ysr"
      },
      "source": [
        "2. Write code to join arr1 and arr2 into a single 1D array."
      ]
    },
    {
      "cell_type": "code",
      "execution_count": 857,
      "metadata": {
        "id": "fyKL42Yv2ewQ"
      },
      "outputs": [
        {
          "name": "stdout",
          "output_type": "stream",
          "text": [
            "[11  7 33 44  5 18]\n"
          ]
        }
      ],
      "source": [
        "concat_arr = np.concatenate((arr1, arr2))\n",
        "print(concat_arr)"
      ]
    },
    {
      "cell_type": "markdown",
      "metadata": {
        "id": "1qiYH-0v25Z2"
      },
      "source": [
        "3. Using arr1 and arr2 from question 1, write code to stack them vertically into a 2D array."
      ]
    },
    {
      "cell_type": "code",
      "execution_count": 858,
      "metadata": {
        "id": "MgR89wkS2_Nw"
      },
      "outputs": [
        {
          "name": "stdout",
          "output_type": "stream",
          "text": [
            "[[11  7 33]\n",
            " [44  5 18]]\n"
          ]
        }
      ],
      "source": [
        "stack_arr = np.stack((arr1, arr2))\n",
        "print(stack_arr)"
      ]
    },
    {
      "cell_type": "markdown",
      "metadata": {
        "id": "mLanHC623JpJ"
      },
      "source": [
        "4. Given the 2D arrays:\n",
        "\n",
        "        arr1 = ([[1, 2],\n",
        "               [3, 4]])\n",
        "\n",
        "        arr2 = ([[5, 6],\n",
        "               [7, 8]])\n",
        "\n",
        "4.1 Recreate the arrays"
      ]
    },
    {
      "cell_type": "code",
      "execution_count": 859,
      "metadata": {
        "id": "FDGnOATJ3JE4"
      },
      "outputs": [],
      "source": [
        "arr1_new = np.array([[1, 2], [3, 4]])\n",
        "\n",
        "arr2_new = np.array([[5, 6], [7, 8]])"
      ]
    },
    {
      "cell_type": "markdown",
      "metadata": {
        "id": "RyJFIfpo3wiA"
      },
      "source": [
        "5. Write code to join them horizontally (column-wise)."
      ]
    },
    {
      "cell_type": "code",
      "execution_count": 860,
      "metadata": {
        "id": "0eHEY4N63zgT"
      },
      "outputs": [
        {
          "name": "stdout",
          "output_type": "stream",
          "text": [
            "[[1 2 5 6]\n",
            " [3 4 7 8]]\n"
          ]
        }
      ],
      "source": [
        "hstack_arr = np.hstack((arr1_new, arr2_new))\n",
        "print(hstack_arr)"
      ]
    },
    {
      "cell_type": "markdown",
      "metadata": {
        "id": "encqt9P74ZSv"
      },
      "source": [
        "6. Using arr1 and arr2 from question 4, write code to join them vertically (row-wise).\n"
      ]
    },
    {
      "cell_type": "code",
      "execution_count": 861,
      "metadata": {
        "id": "o-UjS1Kn4rS7"
      },
      "outputs": [
        {
          "name": "stdout",
          "output_type": "stream",
          "text": [
            "[[1 2]\n",
            " [3 4]\n",
            " [5 6]\n",
            " [7 8]]\n"
          ]
        }
      ],
      "source": [
        "vstack_arr = np.vstack((arr1_new, arr2_new))\n",
        "print(vstack_arr)"
      ]
    },
    {
      "cell_type": "markdown",
      "metadata": {
        "id": "2l2umcfvjlXq"
      },
      "source": [
        "## **Part 3**"
      ]
    },
    {
      "cell_type": "markdown",
      "metadata": {
        "id": "-rs5StZQlvYg"
      },
      "source": [
        "### Task 1: Array Creation"
      ]
    },
    {
      "cell_type": "markdown",
      "metadata": {
        "id": "PKyTiCLulztg"
      },
      "source": [
        "Create the following arrays:\n",
        "\n",
        "- A 1D array of integers from 10 to 28, with a step of 2.\n",
        "- A 2D array with shape (4, 4) containing random integers between 1 and 50.\n",
        "- A 3D array of shape (2, 3, 4) filled with ones.\n",
        "\n"
      ]
    },
    {
      "cell_type": "code",
      "execution_count": 862,
      "metadata": {
        "collapsed": true,
        "id": "GRWUhpV46cR4"
      },
      "outputs": [
        {
          "name": "stdout",
          "output_type": "stream",
          "text": [
            "[10 12 14 16 18 20 22 24 26 28]\n",
            "[[22 45 11 42]\n",
            " [32 14 28  7]\n",
            " [ 4 40 30 37]\n",
            " [20  4  4 17]]\n",
            "[[[1. 1. 1. 1.]\n",
            "  [1. 1. 1. 1.]\n",
            "  [1. 1. 1. 1.]]\n",
            "\n",
            " [[1. 1. 1. 1.]\n",
            "  [1. 1. 1. 1.]\n",
            "  [1. 1. 1. 1.]]]\n"
          ]
        }
      ],
      "source": [
        "arr_1D = np.arange(10, 30, 2)\n",
        "arr_2D = np.random.randint(1, 50, size=(4,4))\n",
        "arr_3D = np.ones((2 ,3 ,4))\n",
        "\n",
        "print(arr_1D)\n",
        "print(arr_2D)\n",
        "print(arr_3D)"
      ]
    },
    {
      "cell_type": "markdown",
      "metadata": {
        "id": "yZPELZSx7ggA"
      },
      "source": [
        "### Task 2: Array Transformations\n",
        "Perform the following operations:\n",
        "- Reshape the 1D array to a 2D array with 2 rows.\n",
        "- Extract the last two rows of the 2D array (From Task 1)\n",
        "- Replace all even numbers in the 2D array with -1. (From Task 1)"
      ]
    },
    {
      "cell_type": "code",
      "execution_count": 863,
      "metadata": {
        "id": "5EJrW4nw7sIE"
      },
      "outputs": [
        {
          "name": "stdout",
          "output_type": "stream",
          "text": [
            "[[10 12 14 16 18]\n",
            " [20 22 24 26 28]]  \n",
            "\n",
            "[[ 4 40 30 37]\n",
            " [20  4  4 17]] \n",
            "\n",
            "Old:\n",
            " [[22 45 11 42]\n",
            " [32 14 28  7]\n",
            " [ 4 40 30 37]\n",
            " [20  4  4 17]]\n",
            "\n",
            "New: \n",
            " [[-1 45 11 -1]\n",
            " [-1 -1 -1  7]\n",
            " [-1 -1 -1 37]\n",
            " [-1 -1 -1 17]]\n"
          ]
        }
      ],
      "source": [
        "arr_1D_to_2D = arr_1D.reshape(2, -1)\n",
        "arr_2D_last_two_rows = arr_2D[2:4, ::]\n",
        "\n",
        "print(arr_1D_to_2D, \" \\n\")\n",
        "print(arr_2D_last_two_rows, \"\\n\")\n",
        "\n",
        "arr_2D_new = arr_2D.copy()\n",
        "\n",
        "for row in range(len(arr_2D_new)):\n",
        "  for col in range(len(arr_2D_new[row])):\n",
        "    if arr_2D_new[row, col] % 2 == 0:\n",
        "      arr_2D_new[row, col] = -1\n",
        "\n",
        "print(\"Old:\\n\", arr_2D)\n",
        "print(\"\\nNew: \\n\", arr_2D_new)"
      ]
    },
    {
      "cell_type": "markdown",
      "metadata": {
        "id": "ZkDoNNBjn7nP"
      },
      "source": [
        "### Task 3: Statistical Operations"
      ]
    },
    {
      "cell_type": "markdown",
      "metadata": {
        "id": "87sRNKp0n7nP"
      },
      "source": [
        "Using the 2D array from **Task 1**, compute the following:\n",
        "\n",
        "- The mean, median, and standard deviation of the array. (From Task 1)\n",
        "- The sum of all elements along each row. (From Task 1)\n",
        "- The maximum value and its index in the entire array. (From Task 1)\n"
      ]
    },
    {
      "cell_type": "code",
      "execution_count": 864,
      "metadata": {
        "id": "TEoMfRV68VlZ"
      },
      "outputs": [
        {
          "name": "stdout",
          "output_type": "stream",
          "text": [
            "arr_2D:\n",
            " [[22 45 11 42]\n",
            " [32 14 28  7]\n",
            " [ 4 40 30 37]\n",
            " [20  4  4 17]]\n",
            "Mean:  22.3125\n",
            "Median:  21.0\n",
            "Standard Deviation:  13.891178630699413\n",
            "Max:  45 (array([0]), array([1]))\n",
            "Sum:  357\n"
          ]
        }
      ],
      "source": [
        "print(\"arr_2D:\\n\", arr_2D)\n",
        "\n",
        "arr_2D_mean = np.mean(arr_2D)\n",
        "arr_2D_median = np.median(arr_2D)\n",
        "arr_2D_std = np.std(arr_2D)\n",
        "arr_2D_max = np.max(arr_2D)\n",
        "arr_2D_max_idx = np.where(arr_2D == arr_2D_max)\n",
        "arr_2D_sum = np.sum(arr_2D)\n",
        "\n",
        "print(\"Mean: \", arr_2D_mean)\n",
        "print(\"Median: \", arr_2D_median)\n",
        "print(\"Standard Deviation: \", arr_2D_std)\n",
        "print(\"Max: \", arr_2D_max, arr_2D_max_idx)\n",
        "print(\"Sum: \",arr_2D_sum)\n",
        " \n"
      ]
    },
    {
      "cell_type": "markdown",
      "metadata": {
        "id": "T_X0kP3I9eWi"
      },
      "source": [
        "###  Task 4: Advanced Analysis on Large Arrays"
      ]
    },
    {
      "cell_type": "markdown",
      "metadata": {
        "id": "B6uTdro89kE7"
      },
      "source": [
        "- Create a (10, 10) array containing random floating-point numbers between 0 and 1.\n",
        "- Find the minimum value along each column.\n",
        "- Find the indices of the top 5 largest values in the entire array."
      ]
    },
    {
      "cell_type": "code",
      "execution_count": null,
      "metadata": {
        "id": "UwJw1MIn9ovK"
      },
      "outputs": [],
      "source": []
    }
  ],
  "metadata": {
    "colab": {
      "collapsed_sections": [
        "JDa9MTb2wXPi",
        "ABs-32sKwOcg"
      ],
      "provenance": []
    },
    "kernelspec": {
      "display_name": "venv",
      "language": "python",
      "name": "python3"
    },
    "language_info": {
      "codemirror_mode": {
        "name": "ipython",
        "version": 3
      },
      "file_extension": ".py",
      "mimetype": "text/x-python",
      "name": "python",
      "nbconvert_exporter": "python",
      "pygments_lexer": "ipython3",
      "version": "3.12.8"
    }
  },
  "nbformat": 4,
  "nbformat_minor": 0
}
